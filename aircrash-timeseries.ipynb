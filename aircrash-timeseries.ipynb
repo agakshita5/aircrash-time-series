{
 "cells": [
  {
   "cell_type": "code",
   "execution_count": 1,
   "id": "f6b77b6c",
   "metadata": {
    "execution": {
     "iopub.execute_input": "2025-07-05T08:17:54.823372Z",
     "iopub.status.busy": "2025-07-05T08:17:54.822525Z",
     "iopub.status.idle": "2025-07-05T08:17:58.477241Z",
     "shell.execute_reply": "2025-07-05T08:17:58.476563Z"
    },
    "papermill": {
     "duration": 3.661241,
     "end_time": "2025-07-05T08:17:58.478605",
     "exception": false,
     "start_time": "2025-07-05T08:17:54.817364",
     "status": "completed"
    },
    "tags": []
   },
   "outputs": [],
   "source": [
    "import pandas as pd\n",
    "import numpy as np\n",
    "import matplotlib.pyplot as plt\n",
    "import seaborn as sn\n",
    "\n",
    "import xgboost as xgb"
   ]
  },
  {
   "cell_type": "markdown",
   "id": "f211fd16",
   "metadata": {
    "papermill": {
     "duration": 0.002765,
     "end_time": "2025-07-05T08:17:58.484823",
     "exception": false,
     "start_time": "2025-07-05T08:17:58.482058",
     "status": "completed"
    },
    "tags": []
   },
   "source": [
    "# loading dataset"
   ]
  },
  {
   "cell_type": "code",
   "execution_count": 2,
   "id": "b181d010",
   "metadata": {
    "execution": {
     "iopub.execute_input": "2025-07-05T08:17:58.491845Z",
     "iopub.status.busy": "2025-07-05T08:17:58.491432Z",
     "iopub.status.idle": "2025-07-05T08:17:58.709806Z",
     "shell.execute_reply": "2025-07-05T08:17:58.709145Z"
    },
    "papermill": {
     "duration": 0.223509,
     "end_time": "2025-07-05T08:17:58.711269",
     "exception": false,
     "start_time": "2025-07-05T08:17:58.487760",
     "status": "completed"
    },
    "tags": []
   },
   "outputs": [],
   "source": [
    "df = pd.read_csv('../input/aeroplane-crash-data-from-1919-to-2025/cleaned_data.csv')"
   ]
  },
  {
   "cell_type": "code",
   "execution_count": 3,
   "id": "58d6237d",
   "metadata": {
    "execution": {
     "iopub.execute_input": "2025-07-05T08:17:58.721887Z",
     "iopub.status.busy": "2025-07-05T08:17:58.721535Z",
     "iopub.status.idle": "2025-07-05T08:17:58.757487Z",
     "shell.execute_reply": "2025-07-05T08:17:58.756699Z"
    },
    "papermill": {
     "duration": 0.041994,
     "end_time": "2025-07-05T08:17:58.758998",
     "exception": false,
     "start_time": "2025-07-05T08:17:58.717004",
     "status": "completed"
    },
    "tags": []
   },
   "outputs": [
    {
     "data": {
      "text/html": [
       "<div>\n",
       "<style scoped>\n",
       "    .dataframe tbody tr th:only-of-type {\n",
       "        vertical-align: middle;\n",
       "    }\n",
       "\n",
       "    .dataframe tbody tr th {\n",
       "        vertical-align: top;\n",
       "    }\n",
       "\n",
       "    .dataframe thead th {\n",
       "        text-align: right;\n",
       "    }\n",
       "</style>\n",
       "<table border=\"1\" class=\"dataframe\">\n",
       "  <thead>\n",
       "    <tr style=\"text-align: right;\">\n",
       "      <th></th>\n",
       "      <th>aircraft_type</th>\n",
       "      <th>registration</th>\n",
       "      <th>operator</th>\n",
       "      <th>fatalities</th>\n",
       "      <th>location</th>\n",
       "      <th>damage</th>\n",
       "      <th>Time</th>\n",
       "      <th>Flight #</th>\n",
       "      <th>Route</th>\n",
       "      <th>cn/In</th>\n",
       "      <th>...</th>\n",
       "      <th>crashes</th>\n",
       "      <th>serious_injuries</th>\n",
       "      <th>minor_injuries</th>\n",
       "      <th>incidents</th>\n",
       "      <th>date</th>\n",
       "      <th>year</th>\n",
       "      <th>month</th>\n",
       "      <th>day</th>\n",
       "      <th>hour</th>\n",
       "      <th>fatality_overcount</th>\n",
       "    </tr>\n",
       "  </thead>\n",
       "  <tbody>\n",
       "    <tr>\n",
       "      <th>0</th>\n",
       "      <td>wright flyer iii</td>\n",
       "      <td>unknown</td>\n",
       "      <td>military - u.s. army</td>\n",
       "      <td>1.0</td>\n",
       "      <td>fort myer, virginia</td>\n",
       "      <td>unknown</td>\n",
       "      <td>17:18</td>\n",
       "      <td>unknown</td>\n",
       "      <td>demonstration</td>\n",
       "      <td>1</td>\n",
       "      <td>...</td>\n",
       "      <td>0.0</td>\n",
       "      <td>0.0</td>\n",
       "      <td>0.0</td>\n",
       "      <td>0.0</td>\n",
       "      <td>1908-09-17</td>\n",
       "      <td>1908</td>\n",
       "      <td>9</td>\n",
       "      <td>17</td>\n",
       "      <td>17</td>\n",
       "      <td>False</td>\n",
       "    </tr>\n",
       "    <tr>\n",
       "      <th>1</th>\n",
       "      <td>dirigible</td>\n",
       "      <td>unknown</td>\n",
       "      <td>mililtary - u.s. navy</td>\n",
       "      <td>5.0</td>\n",
       "      <td>atlanticity, new jersey</td>\n",
       "      <td>unknown</td>\n",
       "      <td>06:30</td>\n",
       "      <td>unknown</td>\n",
       "      <td>test flight</td>\n",
       "      <td>unknown</td>\n",
       "      <td>...</td>\n",
       "      <td>0.0</td>\n",
       "      <td>0.0</td>\n",
       "      <td>0.0</td>\n",
       "      <td>0.0</td>\n",
       "      <td>1912-07-12</td>\n",
       "      <td>1912</td>\n",
       "      <td>7</td>\n",
       "      <td>12</td>\n",
       "      <td>6</td>\n",
       "      <td>False</td>\n",
       "    </tr>\n",
       "    <tr>\n",
       "      <th>2</th>\n",
       "      <td>curtiss seaplane</td>\n",
       "      <td>unknown</td>\n",
       "      <td>private</td>\n",
       "      <td>1.0</td>\n",
       "      <td>victoria, british columbia, canada</td>\n",
       "      <td>unknown</td>\n",
       "      <td>Unknown</td>\n",
       "      <td>-</td>\n",
       "      <td>unknown</td>\n",
       "      <td>unknown</td>\n",
       "      <td>...</td>\n",
       "      <td>0.0</td>\n",
       "      <td>0.0</td>\n",
       "      <td>0.0</td>\n",
       "      <td>0.0</td>\n",
       "      <td>1913-08-06</td>\n",
       "      <td>1913</td>\n",
       "      <td>8</td>\n",
       "      <td>6</td>\n",
       "      <td>-1</td>\n",
       "      <td>False</td>\n",
       "    </tr>\n",
       "    <tr>\n",
       "      <th>3</th>\n",
       "      <td>zeppelin l-1 (airship)</td>\n",
       "      <td>unknown</td>\n",
       "      <td>military - german navy</td>\n",
       "      <td>14.0</td>\n",
       "      <td>over the north sea</td>\n",
       "      <td>unknown</td>\n",
       "      <td>18:30</td>\n",
       "      <td>unknown</td>\n",
       "      <td>unknown</td>\n",
       "      <td>unknown</td>\n",
       "      <td>...</td>\n",
       "      <td>0.0</td>\n",
       "      <td>0.0</td>\n",
       "      <td>0.0</td>\n",
       "      <td>0.0</td>\n",
       "      <td>1913-09-09</td>\n",
       "      <td>1913</td>\n",
       "      <td>9</td>\n",
       "      <td>9</td>\n",
       "      <td>18</td>\n",
       "      <td>False</td>\n",
       "    </tr>\n",
       "    <tr>\n",
       "      <th>4</th>\n",
       "      <td>zeppelin l-2 (airship)</td>\n",
       "      <td>unknown</td>\n",
       "      <td>military - german navy</td>\n",
       "      <td>30.0</td>\n",
       "      <td>near johannisthal, germany</td>\n",
       "      <td>unknown</td>\n",
       "      <td>10:30</td>\n",
       "      <td>unknown</td>\n",
       "      <td>unknown</td>\n",
       "      <td>unknown</td>\n",
       "      <td>...</td>\n",
       "      <td>0.0</td>\n",
       "      <td>0.0</td>\n",
       "      <td>0.0</td>\n",
       "      <td>0.0</td>\n",
       "      <td>1913-10-17</td>\n",
       "      <td>1913</td>\n",
       "      <td>10</td>\n",
       "      <td>17</td>\n",
       "      <td>10</td>\n",
       "      <td>False</td>\n",
       "    </tr>\n",
       "  </tbody>\n",
       "</table>\n",
       "<p>5 rows × 24 columns</p>\n",
       "</div>"
      ],
      "text/plain": [
       "            aircraft_type registration                operator  fatalities  \\\n",
       "0        wright flyer iii      unknown    military - u.s. army         1.0   \n",
       "1               dirigible      unknown   mililtary - u.s. navy         5.0   \n",
       "2        curtiss seaplane      unknown                 private         1.0   \n",
       "3  zeppelin l-1 (airship)      unknown  military - german navy        14.0   \n",
       "4  zeppelin l-2 (airship)      unknown  military - german navy        30.0   \n",
       "\n",
       "                             location   damage     Time Flight #  \\\n",
       "0                 fort myer, virginia  unknown    17:18  unknown   \n",
       "1             atlanticity, new jersey  unknown    06:30  unknown   \n",
       "2  victoria, british columbia, canada  unknown  Unknown        -   \n",
       "3                  over the north sea  unknown    18:30  unknown   \n",
       "4          near johannisthal, germany  unknown    10:30  unknown   \n",
       "\n",
       "           Route    cn/In  ...  crashes  serious_injuries minor_injuries  \\\n",
       "0  demonstration        1  ...      0.0               0.0            0.0   \n",
       "1    test flight  unknown  ...      0.0               0.0            0.0   \n",
       "2        unknown  unknown  ...      0.0               0.0            0.0   \n",
       "3        unknown  unknown  ...      0.0               0.0            0.0   \n",
       "4        unknown  unknown  ...      0.0               0.0            0.0   \n",
       "\n",
       "  incidents        date  year  month  day hour  fatality_overcount  \n",
       "0       0.0  1908-09-17  1908      9   17   17               False  \n",
       "1       0.0  1912-07-12  1912      7   12    6               False  \n",
       "2       0.0  1913-08-06  1913      8    6   -1               False  \n",
       "3       0.0  1913-09-09  1913      9    9   18               False  \n",
       "4       0.0  1913-10-17  1913     10   17   10               False  \n",
       "\n",
       "[5 rows x 24 columns]"
      ]
     },
     "execution_count": 3,
     "metadata": {},
     "output_type": "execute_result"
    }
   ],
   "source": [
    "df.head()"
   ]
  },
  {
   "cell_type": "code",
   "execution_count": 4,
   "id": "0cb4d992",
   "metadata": {
    "execution": {
     "iopub.execute_input": "2025-07-05T08:17:58.766670Z",
     "iopub.status.busy": "2025-07-05T08:17:58.766436Z",
     "iopub.status.idle": "2025-07-05T08:17:58.786104Z",
     "shell.execute_reply": "2025-07-05T08:17:58.785417Z"
    },
    "papermill": {
     "duration": 0.02448,
     "end_time": "2025-07-05T08:17:58.787059",
     "exception": false,
     "start_time": "2025-07-05T08:17:58.762579",
     "status": "completed"
    },
    "tags": []
   },
   "outputs": [
    {
     "data": {
      "text/plain": [
       "aircraft_type         0\n",
       "registration          0\n",
       "operator              0\n",
       "fatalities            0\n",
       "location              0\n",
       "damage                0\n",
       "Time                  0\n",
       "Flight #              0\n",
       "Route                 0\n",
       "cn/In                 0\n",
       "Aboard                0\n",
       "Ground                0\n",
       "Summary               0\n",
       "summary               0\n",
       "crashes               0\n",
       "serious_injuries      0\n",
       "minor_injuries        0\n",
       "incidents             0\n",
       "date                  0\n",
       "year                  0\n",
       "month                 0\n",
       "day                   0\n",
       "hour                  0\n",
       "fatality_overcount    0\n",
       "dtype: int64"
      ]
     },
     "execution_count": 4,
     "metadata": {},
     "output_type": "execute_result"
    }
   ],
   "source": [
    "df.isnull().sum()"
   ]
  },
  {
   "cell_type": "code",
   "execution_count": 5,
   "id": "b917eb3e",
   "metadata": {
    "execution": {
     "iopub.execute_input": "2025-07-05T08:17:58.794453Z",
     "iopub.status.busy": "2025-07-05T08:17:58.794274Z",
     "iopub.status.idle": "2025-07-05T08:17:58.798719Z",
     "shell.execute_reply": "2025-07-05T08:17:58.798054Z"
    },
    "papermill": {
     "duration": 0.009121,
     "end_time": "2025-07-05T08:17:58.799663",
     "exception": false,
     "start_time": "2025-07-05T08:17:58.790542",
     "status": "completed"
    },
    "tags": []
   },
   "outputs": [
    {
     "data": {
      "text/plain": [
       "(30968, 24)"
      ]
     },
     "execution_count": 5,
     "metadata": {},
     "output_type": "execute_result"
    }
   ],
   "source": [
    "df.shape"
   ]
  },
  {
   "cell_type": "code",
   "execution_count": 6,
   "id": "acf5836f",
   "metadata": {
    "execution": {
     "iopub.execute_input": "2025-07-05T08:17:58.807239Z",
     "iopub.status.busy": "2025-07-05T08:17:58.807019Z",
     "iopub.status.idle": "2025-07-05T08:17:58.819271Z",
     "shell.execute_reply": "2025-07-05T08:17:58.818679Z"
    },
    "papermill": {
     "duration": 0.017114,
     "end_time": "2025-07-05T08:17:58.820204",
     "exception": false,
     "start_time": "2025-07-05T08:17:58.803090",
     "status": "completed"
    },
    "tags": []
   },
   "outputs": [
    {
     "data": {
      "text/plain": [
       "fatality_overcount\n",
       "False    22055\n",
       "True      8913\n",
       "Name: count, dtype: int64"
      ]
     },
     "execution_count": 6,
     "metadata": {},
     "output_type": "execute_result"
    }
   ],
   "source": [
    "df.fatality_overcount.value_counts()"
   ]
  },
  {
   "cell_type": "markdown",
   "id": "c88e2ab8",
   "metadata": {
    "papermill": {
     "duration": 0.003093,
     "end_time": "2025-07-05T08:17:58.826744",
     "exception": false,
     "start_time": "2025-07-05T08:17:58.823651",
     "status": "completed"
    },
    "tags": []
   },
   "source": [
    "# data preprocessing"
   ]
  },
  {
   "cell_type": "code",
   "execution_count": 7,
   "id": "17fa14cc",
   "metadata": {
    "execution": {
     "iopub.execute_input": "2025-07-05T08:17:58.833878Z",
     "iopub.status.busy": "2025-07-05T08:17:58.833682Z",
     "iopub.status.idle": "2025-07-05T08:17:58.839066Z",
     "shell.execute_reply": "2025-07-05T08:17:58.838578Z"
    },
    "papermill": {
     "duration": 0.010099,
     "end_time": "2025-07-05T08:17:58.840025",
     "exception": false,
     "start_time": "2025-07-05T08:17:58.829926",
     "status": "completed"
    },
    "tags": []
   },
   "outputs": [],
   "source": [
    "# renaming columns\n",
    "df.rename(columns={'Summary': 'summ1', 'summary': 'summ2'}, inplace=True)\n",
    "df.rename(columns={'flight #': 'flight_num'}, inplace=True)"
   ]
  },
  {
   "cell_type": "code",
   "execution_count": 8,
   "id": "820a9759",
   "metadata": {
    "execution": {
     "iopub.execute_input": "2025-07-05T08:17:58.848302Z",
     "iopub.status.busy": "2025-07-05T08:17:58.847545Z",
     "iopub.status.idle": "2025-07-05T08:17:58.851486Z",
     "shell.execute_reply": "2025-07-05T08:17:58.850892Z"
    },
    "papermill": {
     "duration": 0.008873,
     "end_time": "2025-07-05T08:17:58.852363",
     "exception": false,
     "start_time": "2025-07-05T08:17:58.843490",
     "status": "completed"
    },
    "tags": []
   },
   "outputs": [],
   "source": [
    "# converting columns to lowercase\n",
    "df.columns = df.columns.str.lower()"
   ]
  },
  {
   "cell_type": "code",
   "execution_count": 9,
   "id": "ecfd3e7c",
   "metadata": {
    "execution": {
     "iopub.execute_input": "2025-07-05T08:17:58.860104Z",
     "iopub.status.busy": "2025-07-05T08:17:58.859836Z",
     "iopub.status.idle": "2025-07-05T08:17:58.866479Z",
     "shell.execute_reply": "2025-07-05T08:17:58.865959Z"
    },
    "papermill": {
     "duration": 0.011651,
     "end_time": "2025-07-05T08:17:58.867441",
     "exception": false,
     "start_time": "2025-07-05T08:17:58.855790",
     "status": "completed"
    },
    "tags": []
   },
   "outputs": [],
   "source": [
    "# converting data type from float to int\n",
    "df.aboard = df.aboard.astype(int)\n",
    "df.fatalities = df.fatalities.astype(int)\n",
    "df.crashes = df.crashes.astype(int)\n",
    "df.serious_injuries = df.serious_injuries.astype(int)\n",
    "df.minor_injuries = df.minor_injuries.astype(int)\n",
    "df.incidents = df.incidents.astype(int)"
   ]
  },
  {
   "cell_type": "code",
   "execution_count": 10,
   "id": "508f1f32",
   "metadata": {
    "execution": {
     "iopub.execute_input": "2025-07-05T08:17:58.875050Z",
     "iopub.status.busy": "2025-07-05T08:17:58.874765Z",
     "iopub.status.idle": "2025-07-05T08:17:58.882739Z",
     "shell.execute_reply": "2025-07-05T08:17:58.882011Z"
    },
    "papermill": {
     "duration": 0.012928,
     "end_time": "2025-07-05T08:17:58.883680",
     "exception": false,
     "start_time": "2025-07-05T08:17:58.870752",
     "status": "completed"
    },
    "tags": []
   },
   "outputs": [],
   "source": [
    "# taking last 2 decade data\n",
    "df = df[(df['year'] >= 2005) & (df['year'] <= 2025)]"
   ]
  },
  {
   "cell_type": "code",
   "execution_count": 11,
   "id": "e5faf268",
   "metadata": {
    "execution": {
     "iopub.execute_input": "2025-07-05T08:17:58.890907Z",
     "iopub.status.busy": "2025-07-05T08:17:58.890661Z",
     "iopub.status.idle": "2025-07-05T08:17:58.910049Z",
     "shell.execute_reply": "2025-07-05T08:17:58.909339Z"
    },
    "papermill": {
     "duration": 0.024258,
     "end_time": "2025-07-05T08:17:58.911141",
     "exception": false,
     "start_time": "2025-07-05T08:17:58.886883",
     "status": "completed"
    },
    "tags": []
   },
   "outputs": [
    {
     "data": {
      "text/html": [
       "<div>\n",
       "<style scoped>\n",
       "    .dataframe tbody tr th:only-of-type {\n",
       "        vertical-align: middle;\n",
       "    }\n",
       "\n",
       "    .dataframe tbody tr th {\n",
       "        vertical-align: top;\n",
       "    }\n",
       "\n",
       "    .dataframe thead th {\n",
       "        text-align: right;\n",
       "    }\n",
       "</style>\n",
       "<table border=\"1\" class=\"dataframe\">\n",
       "  <thead>\n",
       "    <tr style=\"text-align: right;\">\n",
       "      <th></th>\n",
       "      <th>aircraft_type</th>\n",
       "      <th>registration</th>\n",
       "      <th>operator</th>\n",
       "      <th>fatalities</th>\n",
       "      <th>location</th>\n",
       "      <th>damage</th>\n",
       "      <th>time</th>\n",
       "      <th>flight #</th>\n",
       "      <th>route</th>\n",
       "      <th>cn/in</th>\n",
       "      <th>...</th>\n",
       "      <th>summ2</th>\n",
       "      <th>crashes</th>\n",
       "      <th>serious_injuries</th>\n",
       "      <th>minor_injuries</th>\n",
       "      <th>incidents</th>\n",
       "      <th>year</th>\n",
       "      <th>month</th>\n",
       "      <th>day</th>\n",
       "      <th>hour</th>\n",
       "      <th>fatality_overcount</th>\n",
       "    </tr>\n",
       "    <tr>\n",
       "      <th>date</th>\n",
       "      <th></th>\n",
       "      <th></th>\n",
       "      <th></th>\n",
       "      <th></th>\n",
       "      <th></th>\n",
       "      <th></th>\n",
       "      <th></th>\n",
       "      <th></th>\n",
       "      <th></th>\n",
       "      <th></th>\n",
       "      <th></th>\n",
       "      <th></th>\n",
       "      <th></th>\n",
       "      <th></th>\n",
       "      <th></th>\n",
       "      <th></th>\n",
       "      <th></th>\n",
       "      <th></th>\n",
       "      <th></th>\n",
       "      <th></th>\n",
       "      <th></th>\n",
       "    </tr>\n",
       "  </thead>\n",
       "  <tbody>\n",
       "    <tr>\n",
       "      <th>2005-01-01</th>\n",
       "      <td>cessna 551 citation ii/sp</td>\n",
       "      <td>n35403</td>\n",
       "      <td>jet services</td>\n",
       "      <td>0</td>\n",
       "      <td>ainsworth airport, ne (anw)</td>\n",
       "      <td>w/o</td>\n",
       "      <td>Unknown</td>\n",
       "      <td>unknown</td>\n",
       "      <td>unknown</td>\n",
       "      <td>unknown</td>\n",
       "      <td>...</td>\n",
       "      <td>No summary available</td>\n",
       "      <td>0</td>\n",
       "      <td>0</td>\n",
       "      <td>0</td>\n",
       "      <td>0</td>\n",
       "      <td>2005</td>\n",
       "      <td>1</td>\n",
       "      <td>1</td>\n",
       "      <td>-1</td>\n",
       "      <td>False</td>\n",
       "    </tr>\n",
       "    <tr>\n",
       "      <th>2005-01-01</th>\n",
       "      <td>unknown</td>\n",
       "      <td>unknown</td>\n",
       "      <td>unknown</td>\n",
       "      <td>1689</td>\n",
       "      <td>unknown</td>\n",
       "      <td>unknown</td>\n",
       "      <td>Unknown</td>\n",
       "      <td>unknown</td>\n",
       "      <td>unknown</td>\n",
       "      <td>unknown</td>\n",
       "      <td>...</td>\n",
       "      <td>No summary available</td>\n",
       "      <td>2031</td>\n",
       "      <td>426</td>\n",
       "      <td>620</td>\n",
       "      <td>0</td>\n",
       "      <td>2005</td>\n",
       "      <td>1</td>\n",
       "      <td>1</td>\n",
       "      <td>-1</td>\n",
       "      <td>True</td>\n",
       "    </tr>\n",
       "  </tbody>\n",
       "</table>\n",
       "<p>2 rows × 23 columns</p>\n",
       "</div>"
      ],
      "text/plain": [
       "                        aircraft_type registration      operator  fatalities  \\\n",
       "date                                                                           \n",
       "2005-01-01  cessna 551 citation ii/sp       n35403  jet services           0   \n",
       "2005-01-01                    unknown      unknown       unknown        1689   \n",
       "\n",
       "                               location   damage     time flight #    route  \\\n",
       "date                                                                          \n",
       "2005-01-01  ainsworth airport, ne (anw)      w/o  Unknown  unknown  unknown   \n",
       "2005-01-01                      unknown  unknown  Unknown  unknown  unknown   \n",
       "\n",
       "              cn/in  ...                 summ2  crashes serious_injuries  \\\n",
       "date                 ...                                                   \n",
       "2005-01-01  unknown  ...  No summary available        0                0   \n",
       "2005-01-01  unknown  ...  No summary available     2031              426   \n",
       "\n",
       "           minor_injuries  incidents  year  month  day  hour  \\\n",
       "date                                                           \n",
       "2005-01-01              0          0  2005      1    1    -1   \n",
       "2005-01-01            620          0  2005      1    1    -1   \n",
       "\n",
       "            fatality_overcount  \n",
       "date                            \n",
       "2005-01-01               False  \n",
       "2005-01-01                True  \n",
       "\n",
       "[2 rows x 23 columns]"
      ]
     },
     "execution_count": 11,
     "metadata": {},
     "output_type": "execute_result"
    }
   ],
   "source": [
    "# reset index to date (datetime)\n",
    "df['date'] = pd.to_datetime(df['date'])\n",
    "df.set_index('date', inplace = True)\n",
    "df.head(2)"
   ]
  },
  {
   "cell_type": "code",
   "execution_count": 12,
   "id": "d12d1747",
   "metadata": {
    "execution": {
     "iopub.execute_input": "2025-07-05T08:17:58.919755Z",
     "iopub.status.busy": "2025-07-05T08:17:58.919512Z",
     "iopub.status.idle": "2025-07-05T08:17:58.922426Z",
     "shell.execute_reply": "2025-07-05T08:17:58.921860Z"
    },
    "papermill": {
     "duration": 0.008142,
     "end_time": "2025-07-05T08:17:58.923589",
     "exception": false,
     "start_time": "2025-07-05T08:17:58.915447",
     "status": "completed"
    },
    "tags": []
   },
   "outputs": [],
   "source": [
    "# df[df.summ1 == 'No summary available'].value_counts().sum() # 4878 valid\n",
    "\n",
    "# df[df.summ2 == 'No summary available'].value_counts().sum() # 31 valid\n",
    "\n",
    "# df[(df.summ2 == 'No summary available') & (df.summ1 == 'No summary available')].value_counts().sum() # 26059"
   ]
  },
  {
   "cell_type": "code",
   "execution_count": 13,
   "id": "651e65ad",
   "metadata": {
    "execution": {
     "iopub.execute_input": "2025-07-05T08:17:58.931756Z",
     "iopub.status.busy": "2025-07-05T08:17:58.931528Z",
     "iopub.status.idle": "2025-07-05T08:17:58.948087Z",
     "shell.execute_reply": "2025-07-05T08:17:58.947372Z"
    },
    "papermill": {
     "duration": 0.021475,
     "end_time": "2025-07-05T08:17:58.949087",
     "exception": false,
     "start_time": "2025-07-05T08:17:58.927612",
     "status": "completed"
    },
    "tags": []
   },
   "outputs": [
    {
     "name": "stdout",
     "output_type": "stream",
     "text": [
      "<class 'pandas.core.frame.DataFrame'>\n",
      "DatetimeIndex: 5469 entries, 2005-01-01 to 2025-11-14\n",
      "Data columns (total 23 columns):\n",
      " #   Column              Non-Null Count  Dtype  \n",
      "---  ------              --------------  -----  \n",
      " 0   aircraft_type       5469 non-null   object \n",
      " 1   registration        5469 non-null   object \n",
      " 2   operator            5469 non-null   object \n",
      " 3   fatalities          5469 non-null   int64  \n",
      " 4   location            5469 non-null   object \n",
      " 5   damage              5469 non-null   object \n",
      " 6   time                5469 non-null   object \n",
      " 7   flight #            5469 non-null   object \n",
      " 8   route               5469 non-null   object \n",
      " 9   cn/in               5469 non-null   object \n",
      " 10  aboard              5469 non-null   int64  \n",
      " 11  ground              5469 non-null   float64\n",
      " 12  summ1               5469 non-null   object \n",
      " 13  summ2               5469 non-null   object \n",
      " 14  crashes             5469 non-null   int64  \n",
      " 15  serious_injuries    5469 non-null   int64  \n",
      " 16  minor_injuries      5469 non-null   int64  \n",
      " 17  incidents           5469 non-null   int64  \n",
      " 18  year                5469 non-null   int64  \n",
      " 19  month               5469 non-null   int64  \n",
      " 20  day                 5469 non-null   int64  \n",
      " 21  hour                5469 non-null   int64  \n",
      " 22  fatality_overcount  5469 non-null   bool   \n",
      "dtypes: bool(1), float64(1), int64(10), object(11)\n",
      "memory usage: 988.1+ KB\n"
     ]
    }
   ],
   "source": [
    "df.info()"
   ]
  },
  {
   "cell_type": "code",
   "execution_count": 14,
   "id": "55d10c6f",
   "metadata": {
    "execution": {
     "iopub.execute_input": "2025-07-05T08:17:58.957418Z",
     "iopub.status.busy": "2025-07-05T08:17:58.957196Z",
     "iopub.status.idle": "2025-07-05T08:17:58.961728Z",
     "shell.execute_reply": "2025-07-05T08:17:58.961149Z"
    },
    "papermill": {
     "duration": 0.009568,
     "end_time": "2025-07-05T08:17:58.962615",
     "exception": false,
     "start_time": "2025-07-05T08:17:58.953047",
     "status": "completed"
    },
    "tags": []
   },
   "outputs": [
    {
     "data": {
      "text/plain": [
       "1533"
      ]
     },
     "execution_count": 14,
     "metadata": {},
     "output_type": "execute_result"
    }
   ],
   "source": [
    "# number of unique aircraft type\n",
    "len(df['aircraft_type'].unique())"
   ]
  },
  {
   "cell_type": "code",
   "execution_count": 15,
   "id": "0006b1fa",
   "metadata": {
    "execution": {
     "iopub.execute_input": "2025-07-05T08:17:58.971386Z",
     "iopub.status.busy": "2025-07-05T08:17:58.971151Z",
     "iopub.status.idle": "2025-07-05T08:17:58.994813Z",
     "shell.execute_reply": "2025-07-05T08:17:58.994210Z"
    },
    "papermill": {
     "duration": 0.029348,
     "end_time": "2025-07-05T08:17:58.995879",
     "exception": false,
     "start_time": "2025-07-05T08:17:58.966531",
     "status": "completed"
    },
    "tags": []
   },
   "outputs": [
    {
     "data": {
      "text/plain": [
       "5454"
      ]
     },
     "execution_count": 15,
     "metadata": {},
     "output_type": "execute_result"
    }
   ],
   "source": [
    "df[df['crashes']==0].value_counts().sum()"
   ]
  },
  {
   "cell_type": "code",
   "execution_count": 16,
   "id": "bd0d9f60",
   "metadata": {
    "execution": {
     "iopub.execute_input": "2025-07-05T08:17:59.004906Z",
     "iopub.status.busy": "2025-07-05T08:17:59.004658Z",
     "iopub.status.idle": "2025-07-05T08:17:59.008115Z",
     "shell.execute_reply": "2025-07-05T08:17:59.007446Z"
    },
    "papermill": {
     "duration": 0.009297,
     "end_time": "2025-07-05T08:17:59.009294",
     "exception": false,
     "start_time": "2025-07-05T08:17:58.999997",
     "status": "completed"
    },
    "tags": []
   },
   "outputs": [],
   "source": [
    "# df['year'].value_counts() # unsorted\n",
    "# df['year'].value_counts().sort_index() # sorted index : HERE index = year"
   ]
  },
  {
   "cell_type": "code",
   "execution_count": 17,
   "id": "be3a7b5e",
   "metadata": {
    "execution": {
     "iopub.execute_input": "2025-07-05T08:17:59.017967Z",
     "iopub.status.busy": "2025-07-05T08:17:59.017732Z",
     "iopub.status.idle": "2025-07-05T08:17:59.306540Z",
     "shell.execute_reply": "2025-07-05T08:17:59.305778Z"
    },
    "papermill": {
     "duration": 0.294516,
     "end_time": "2025-07-05T08:17:59.307743",
     "exception": false,
     "start_time": "2025-07-05T08:17:59.013227",
     "status": "completed"
    },
    "tags": []
   },
   "outputs": [
    {
     "data": {
      "image/png": "[encoded data removed]",
      "text/plain": [
       "<Figure size 1000x500 with 1 Axes>"
      ]
     },
     "metadata": {},
     "output_type": "display_data"
    }
   ],
   "source": [
    "plt.figure(figsize=(10,5))\n",
    "df['year'].value_counts().sort_index().plot(rot=90, kind='bar') # or df.groupby('year').size().plot(kind='bar', rot=90)\n",
    "plt.xlabel('Year')\n",
    "plt.ylabel('Count')\n",
    "plt.title('Crash counts per Year')\n",
    "plt.show()"
   ]
  },
  {
   "cell_type": "code",
   "execution_count": 18,
   "id": "e2569003",
   "metadata": {
    "execution": {
     "iopub.execute_input": "2025-07-05T08:17:59.316776Z",
     "iopub.status.busy": "2025-07-05T08:17:59.316546Z",
     "iopub.status.idle": "2025-07-05T08:17:59.329396Z",
     "shell.execute_reply": "2025-07-05T08:17:59.328782Z"
    },
    "papermill": {
     "duration": 0.018339,
     "end_time": "2025-07-05T08:17:59.330435",
     "exception": false,
     "start_time": "2025-07-05T08:17:59.312096",
     "status": "completed"
    },
    "tags": []
   },
   "outputs": [
    {
     "data": {
      "text/html": [
       "<div>\n",
       "<style scoped>\n",
       "    .dataframe tbody tr th:only-of-type {\n",
       "        vertical-align: middle;\n",
       "    }\n",
       "\n",
       "    .dataframe tbody tr th {\n",
       "        vertical-align: top;\n",
       "    }\n",
       "\n",
       "    .dataframe thead th {\n",
       "        text-align: right;\n",
       "    }\n",
       "</style>\n",
       "<table border=\"1\" class=\"dataframe\">\n",
       "  <thead>\n",
       "    <tr style=\"text-align: right;\">\n",
       "      <th></th>\n",
       "      <th>aircraft_type</th>\n",
       "      <th>registration</th>\n",
       "      <th>operator</th>\n",
       "      <th>fatalities</th>\n",
       "      <th>location</th>\n",
       "      <th>damage</th>\n",
       "      <th>time</th>\n",
       "      <th>flight #</th>\n",
       "      <th>route</th>\n",
       "      <th>cn/in</th>\n",
       "      <th>...</th>\n",
       "      <th>summ2</th>\n",
       "      <th>crashes</th>\n",
       "      <th>serious_injuries</th>\n",
       "      <th>minor_injuries</th>\n",
       "      <th>incidents</th>\n",
       "      <th>year</th>\n",
       "      <th>month</th>\n",
       "      <th>day</th>\n",
       "      <th>hour</th>\n",
       "      <th>fatality_overcount</th>\n",
       "    </tr>\n",
       "    <tr>\n",
       "      <th>date</th>\n",
       "      <th></th>\n",
       "      <th></th>\n",
       "      <th></th>\n",
       "      <th></th>\n",
       "      <th></th>\n",
       "      <th></th>\n",
       "      <th></th>\n",
       "      <th></th>\n",
       "      <th></th>\n",
       "      <th></th>\n",
       "      <th></th>\n",
       "      <th></th>\n",
       "      <th></th>\n",
       "      <th></th>\n",
       "      <th></th>\n",
       "      <th></th>\n",
       "      <th></th>\n",
       "      <th></th>\n",
       "      <th></th>\n",
       "      <th></th>\n",
       "      <th></th>\n",
       "    </tr>\n",
       "  </thead>\n",
       "  <tbody>\n",
       "    <tr>\n",
       "      <th>2005-01-01</th>\n",
       "      <td>cessna 551 citation ii/sp</td>\n",
       "      <td>n35403</td>\n",
       "      <td>jet services</td>\n",
       "      <td>0</td>\n",
       "      <td>ainsworth airport, ne (anw)</td>\n",
       "      <td>w/o</td>\n",
       "      <td>Unknown</td>\n",
       "      <td>unknown</td>\n",
       "      <td>unknown</td>\n",
       "      <td>unknown</td>\n",
       "      <td>...</td>\n",
       "      <td>No summary available</td>\n",
       "      <td>0</td>\n",
       "      <td>0</td>\n",
       "      <td>0</td>\n",
       "      <td>0</td>\n",
       "      <td>2005</td>\n",
       "      <td>1</td>\n",
       "      <td>1</td>\n",
       "      <td>-1</td>\n",
       "      <td>False</td>\n",
       "    </tr>\n",
       "  </tbody>\n",
       "</table>\n",
       "<p>1 rows × 23 columns</p>\n",
       "</div>"
      ],
      "text/plain": [
       "                        aircraft_type registration      operator  fatalities  \\\n",
       "date                                                                           \n",
       "2005-01-01  cessna 551 citation ii/sp       n35403  jet services           0   \n",
       "\n",
       "                               location damage     time flight #    route  \\\n",
       "date                                                                        \n",
       "2005-01-01  ainsworth airport, ne (anw)    w/o  Unknown  unknown  unknown   \n",
       "\n",
       "              cn/in  ...                 summ2  crashes serious_injuries  \\\n",
       "date                 ...                                                   \n",
       "2005-01-01  unknown  ...  No summary available        0                0   \n",
       "\n",
       "           minor_injuries  incidents  year  month  day  hour  \\\n",
       "date                                                           \n",
       "2005-01-01              0          0  2005      1    1    -1   \n",
       "\n",
       "            fatality_overcount  \n",
       "date                            \n",
       "2005-01-01               False  \n",
       "\n",
       "[1 rows x 23 columns]"
      ]
     },
     "execution_count": 18,
     "metadata": {},
     "output_type": "execute_result"
    }
   ],
   "source": [
    "df.head(1)"
   ]
  },
  {
   "cell_type": "code",
   "execution_count": 19,
   "id": "a19a5c9a",
   "metadata": {
    "execution": {
     "iopub.execute_input": "2025-07-05T08:17:59.339978Z",
     "iopub.status.busy": "2025-07-05T08:17:59.339790Z",
     "iopub.status.idle": "2025-07-05T08:17:59.343858Z",
     "shell.execute_reply": "2025-07-05T08:17:59.343314Z"
    },
    "papermill": {
     "duration": 0.009868,
     "end_time": "2025-07-05T08:17:59.344792",
     "exception": false,
     "start_time": "2025-07-05T08:17:59.334924",
     "status": "completed"
    },
    "tags": []
   },
   "outputs": [
    {
     "data": {
      "text/plain": [
       "Index(['aircraft_type', 'registration', 'operator', 'fatalities', 'location',\n",
       "       'damage', 'time', 'flight #', 'route', 'cn/in', 'aboard', 'ground',\n",
       "       'summ1', 'summ2', 'crashes', 'serious_injuries', 'minor_injuries',\n",
       "       'incidents', 'year', 'month', 'day', 'hour', 'fatality_overcount'],\n",
       "      dtype='object')"
      ]
     },
     "execution_count": 19,
     "metadata": {},
     "output_type": "execute_result"
    }
   ],
   "source": [
    "df.columns"
   ]
  },
  {
   "cell_type": "code",
   "execution_count": 20,
   "id": "d2d42468",
   "metadata": {
    "execution": {
     "iopub.execute_input": "2025-07-05T08:17:59.354391Z",
     "iopub.status.busy": "2025-07-05T08:17:59.354135Z",
     "iopub.status.idle": "2025-07-05T08:17:59.542205Z",
     "shell.execute_reply": "2025-07-05T08:17:59.541494Z"
    },
    "papermill": {
     "duration": 0.194191,
     "end_time": "2025-07-05T08:17:59.543462",
     "exception": false,
     "start_time": "2025-07-05T08:17:59.349271",
     "status": "completed"
    },
    "tags": []
   },
   "outputs": [
    {
     "data": {
      "image/png": "[encoded data removed]",
      "text/plain": [
       "<Figure size 640x480 with 1 Axes>"
      ]
     },
     "metadata": {},
     "output_type": "display_data"
    }
   ],
   "source": [
    "# plt.figure(figsize=(10,5))\n",
    "df['day'].value_counts().sort_index().plot(rot=90, kind='bar') \n",
    "plt.xlabel('Year')\n",
    "plt.ylabel('Count')\n",
    "plt.title('Crash counts per Year')\n",
    "plt.show()"
   ]
  },
  {
   "cell_type": "code",
   "execution_count": 21,
   "id": "016bba66",
   "metadata": {
    "execution": {
     "iopub.execute_input": "2025-07-05T08:17:59.553722Z",
     "iopub.status.busy": "2025-07-05T08:17:59.553453Z",
     "iopub.status.idle": "2025-07-05T08:17:59.670239Z",
     "shell.execute_reply": "2025-07-05T08:17:59.669660Z"
    },
    "papermill": {
     "duration": 0.122827,
     "end_time": "2025-07-05T08:17:59.671280",
     "exception": false,
     "start_time": "2025-07-05T08:17:59.548453",
     "status": "completed"
    },
    "tags": []
   },
   "outputs": [
    {
     "data": {
      "text/plain": [
       "<Axes: xlabel='day'>"
      ]
     },
     "execution_count": 21,
     "metadata": {},
     "output_type": "execute_result"
    },
    {
     "data": {
      "image/png": "[encoded data removed]",
      "text/plain": [
       "<Figure size 640x480 with 1 Axes>"
      ]
     },
     "metadata": {},
     "output_type": "display_data"
    }
   ],
   "source": [
    "df['day'].value_counts().sort_index().plot()"
   ]
  },
  {
   "cell_type": "code",
   "execution_count": 22,
   "id": "f303d275",
   "metadata": {
    "execution": {
     "iopub.execute_input": "2025-07-05T08:17:59.682580Z",
     "iopub.status.busy": "2025-07-05T08:17:59.682109Z",
     "iopub.status.idle": "2025-07-05T08:17:59.685373Z",
     "shell.execute_reply": "2025-07-05T08:17:59.684670Z"
    },
    "papermill": {
     "duration": 0.009831,
     "end_time": "2025-07-05T08:17:59.686386",
     "exception": false,
     "start_time": "2025-07-05T08:17:59.676555",
     "status": "completed"
    },
    "tags": []
   },
   "outputs": [],
   "source": [
    "# df.plot()"
   ]
  },
  {
   "cell_type": "code",
   "execution_count": null,
   "id": "6f88cefa",
   "metadata": {
    "papermill": {
     "duration": 0.004571,
     "end_time": "2025-07-05T08:17:59.695975",
     "exception": false,
     "start_time": "2025-07-05T08:17:59.691404",
     "status": "completed"
    },
    "tags": []
   },
   "outputs": [],
   "source": []
  }
 ],
 "metadata": {
  "kaggle": {
   "accelerator": "none",
   "dataSources": [
    {
     "datasetId": 7802076,
     "sourceId": 12373864,
     "sourceType": "datasetVersion"
    }
   ],
   "dockerImageVersionId": 31040,
   "isGpuEnabled": false,
   "isInternetEnabled": false,
   "language": "python",
   "sourceType": "notebook"
  },
  "kernelspec": {
   "display_name": "Python 3",
   "language": "python",
   "name": "python3"
  },
  "language_info": {
   "codemirror_mode": {
    "name": "ipython",
    "version": 3
   },
   "file_extension": ".py",
   "mimetype": "text/x-python",
   "name": "python",
   "nbconvert_exporter": "python",
   "pygments_lexer": "ipython3",
   "version": "3.11.11"
  },
  "papermill": {
   "default_parameters": {},
   "duration": 9.283443,
   "end_time": "2025-07-05T08:18:00.318854",
   "environment_variables": {},
   "exception": null,
   "input_path": "__notebook__.ipynb",
   "output_path": "__notebook__.ipynb",
   "parameters": {},
   "start_time": "2025-07-05T08:17:51.035411",
   "version": "2.6.0"
  }
 },
 "nbformat": 4,
 "nbformat_minor": 5
}
