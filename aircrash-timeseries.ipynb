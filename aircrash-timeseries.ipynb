{
 "cells": [
  {
   "cell_type": "code",
   "execution_count": 1,
   "id": "037738e3",
   "metadata": {
    "execution": {
     "iopub.execute_input": "2025-07-05T04:21:20.566029Z",
     "iopub.status.busy": "2025-07-05T04:21:20.564491Z",
     "iopub.status.idle": "2025-07-05T04:21:25.961740Z",
     "shell.execute_reply": "2025-07-05T04:21:25.959994Z"
    },
    "papermill": {
     "duration": 5.40688,
     "end_time": "2025-07-05T04:21:25.964140",
     "exception": false,
     "start_time": "2025-07-05T04:21:20.557260",
     "status": "completed"
    },
    "tags": []
   },
   "outputs": [],
   "source": [
    "import pandas as pd\n",
    "import numpy as np\n",
    "import matplotlib.pyplot as plt\n",
    "import seaborn as sn\n",
    "\n",
    "import xgboost as xgb"
   ]
  },
  {
   "cell_type": "markdown",
   "id": "734fd7a5",
   "metadata": {
    "papermill": {
     "duration": 0.004087,
     "end_time": "2025-07-05T04:21:25.973125",
     "exception": false,
     "start_time": "2025-07-05T04:21:25.969038",
     "status": "completed"
    },
    "tags": []
   },
   "source": [
    "# loading dataset"
   ]
  },
  {
   "cell_type": "code",
   "execution_count": 2,
   "id": "7ba2088a",
   "metadata": {
    "execution": {
     "iopub.execute_input": "2025-07-05T04:21:25.983511Z",
     "iopub.status.busy": "2025-07-05T04:21:25.982181Z",
     "iopub.status.idle": "2025-07-05T04:21:26.396581Z",
     "shell.execute_reply": "2025-07-05T04:21:26.395337Z"
    },
    "papermill": {
     "duration": 0.421818,
     "end_time": "2025-07-05T04:21:26.399042",
     "exception": false,
     "start_time": "2025-07-05T04:21:25.977224",
     "status": "completed"
    },
    "tags": []
   },
   "outputs": [],
   "source": [
    "df = pd.read_csv('../input/aeroplane-crash-data-from-1919-to-2025/cleaned_data.csv')"
   ]
  },
  {
   "cell_type": "code",
   "execution_count": 3,
   "id": "65ab61dc",
   "metadata": {
    "execution": {
     "iopub.execute_input": "2025-07-05T04:21:26.409706Z",
     "iopub.status.busy": "2025-07-05T04:21:26.409318Z",
     "iopub.status.idle": "2025-07-05T04:21:26.453919Z",
     "shell.execute_reply": "2025-07-05T04:21:26.452826Z"
    },
    "papermill": {
     "duration": 0.05209,
     "end_time": "2025-07-05T04:21:26.455643",
     "exception": false,
     "start_time": "2025-07-05T04:21:26.403553",
     "status": "completed"
    },
    "tags": []
   },
   "outputs": [
    {
     "data": {
      "text/html": [
       "<div>\n",
       "<style scoped>\n",
       "    .dataframe tbody tr th:only-of-type {\n",
       "        vertical-align: middle;\n",
       "    }\n",
       "\n",
       "    .dataframe tbody tr th {\n",
       "        vertical-align: top;\n",
       "    }\n",
       "\n",
       "    .dataframe thead th {\n",
       "        text-align: right;\n",
       "    }\n",
       "</style>\n",
       "<table border=\"1\" class=\"dataframe\">\n",
       "  <thead>\n",
       "    <tr style=\"text-align: right;\">\n",
       "      <th></th>\n",
       "      <th>aircraft_type</th>\n",
       "      <th>registration</th>\n",
       "      <th>operator</th>\n",
       "      <th>fatalities</th>\n",
       "      <th>location</th>\n",
       "      <th>damage</th>\n",
       "      <th>Time</th>\n",
       "      <th>Flight #</th>\n",
       "      <th>Route</th>\n",
       "      <th>cn/In</th>\n",
       "      <th>...</th>\n",
       "      <th>crashes</th>\n",
       "      <th>serious_injuries</th>\n",
       "      <th>minor_injuries</th>\n",
       "      <th>incidents</th>\n",
       "      <th>date</th>\n",
       "      <th>year</th>\n",
       "      <th>month</th>\n",
       "      <th>day</th>\n",
       "      <th>hour</th>\n",
       "      <th>fatality_overcount</th>\n",
       "    </tr>\n",
       "  </thead>\n",
       "  <tbody>\n",
       "    <tr>\n",
       "      <th>0</th>\n",
       "      <td>wright flyer iii</td>\n",
       "      <td>unknown</td>\n",
       "      <td>military - u.s. army</td>\n",
       "      <td>1.0</td>\n",
       "      <td>fort myer, virginia</td>\n",
       "      <td>unknown</td>\n",
       "      <td>17:18</td>\n",
       "      <td>unknown</td>\n",
       "      <td>demonstration</td>\n",
       "      <td>1</td>\n",
       "      <td>...</td>\n",
       "      <td>0.0</td>\n",
       "      <td>0.0</td>\n",
       "      <td>0.0</td>\n",
       "      <td>0.0</td>\n",
       "      <td>1908-09-17</td>\n",
       "      <td>1908</td>\n",
       "      <td>9</td>\n",
       "      <td>17</td>\n",
       "      <td>17</td>\n",
       "      <td>False</td>\n",
       "    </tr>\n",
       "    <tr>\n",
       "      <th>1</th>\n",
       "      <td>dirigible</td>\n",
       "      <td>unknown</td>\n",
       "      <td>mililtary - u.s. navy</td>\n",
       "      <td>5.0</td>\n",
       "      <td>atlanticity, new jersey</td>\n",
       "      <td>unknown</td>\n",
       "      <td>06:30</td>\n",
       "      <td>unknown</td>\n",
       "      <td>test flight</td>\n",
       "      <td>unknown</td>\n",
       "      <td>...</td>\n",
       "      <td>0.0</td>\n",
       "      <td>0.0</td>\n",
       "      <td>0.0</td>\n",
       "      <td>0.0</td>\n",
       "      <td>1912-07-12</td>\n",
       "      <td>1912</td>\n",
       "      <td>7</td>\n",
       "      <td>12</td>\n",
       "      <td>6</td>\n",
       "      <td>False</td>\n",
       "    </tr>\n",
       "    <tr>\n",
       "      <th>2</th>\n",
       "      <td>curtiss seaplane</td>\n",
       "      <td>unknown</td>\n",
       "      <td>private</td>\n",
       "      <td>1.0</td>\n",
       "      <td>victoria, british columbia, canada</td>\n",
       "      <td>unknown</td>\n",
       "      <td>Unknown</td>\n",
       "      <td>-</td>\n",
       "      <td>unknown</td>\n",
       "      <td>unknown</td>\n",
       "      <td>...</td>\n",
       "      <td>0.0</td>\n",
       "      <td>0.0</td>\n",
       "      <td>0.0</td>\n",
       "      <td>0.0</td>\n",
       "      <td>1913-08-06</td>\n",
       "      <td>1913</td>\n",
       "      <td>8</td>\n",
       "      <td>6</td>\n",
       "      <td>-1</td>\n",
       "      <td>False</td>\n",
       "    </tr>\n",
       "    <tr>\n",
       "      <th>3</th>\n",
       "      <td>zeppelin l-1 (airship)</td>\n",
       "      <td>unknown</td>\n",
       "      <td>military - german navy</td>\n",
       "      <td>14.0</td>\n",
       "      <td>over the north sea</td>\n",
       "      <td>unknown</td>\n",
       "      <td>18:30</td>\n",
       "      <td>unknown</td>\n",
       "      <td>unknown</td>\n",
       "      <td>unknown</td>\n",
       "      <td>...</td>\n",
       "      <td>0.0</td>\n",
       "      <td>0.0</td>\n",
       "      <td>0.0</td>\n",
       "      <td>0.0</td>\n",
       "      <td>1913-09-09</td>\n",
       "      <td>1913</td>\n",
       "      <td>9</td>\n",
       "      <td>9</td>\n",
       "      <td>18</td>\n",
       "      <td>False</td>\n",
       "    </tr>\n",
       "    <tr>\n",
       "      <th>4</th>\n",
       "      <td>zeppelin l-2 (airship)</td>\n",
       "      <td>unknown</td>\n",
       "      <td>military - german navy</td>\n",
       "      <td>30.0</td>\n",
       "      <td>near johannisthal, germany</td>\n",
       "      <td>unknown</td>\n",
       "      <td>10:30</td>\n",
       "      <td>unknown</td>\n",
       "      <td>unknown</td>\n",
       "      <td>unknown</td>\n",
       "      <td>...</td>\n",
       "      <td>0.0</td>\n",
       "      <td>0.0</td>\n",
       "      <td>0.0</td>\n",
       "      <td>0.0</td>\n",
       "      <td>1913-10-17</td>\n",
       "      <td>1913</td>\n",
       "      <td>10</td>\n",
       "      <td>17</td>\n",
       "      <td>10</td>\n",
       "      <td>False</td>\n",
       "    </tr>\n",
       "  </tbody>\n",
       "</table>\n",
       "<p>5 rows × 24 columns</p>\n",
       "</div>"
      ],
      "text/plain": [
       "            aircraft_type registration                operator  fatalities  \\\n",
       "0        wright flyer iii      unknown    military - u.s. army         1.0   \n",
       "1               dirigible      unknown   mililtary - u.s. navy         5.0   \n",
       "2        curtiss seaplane      unknown                 private         1.0   \n",
       "3  zeppelin l-1 (airship)      unknown  military - german navy        14.0   \n",
       "4  zeppelin l-2 (airship)      unknown  military - german navy        30.0   \n",
       "\n",
       "                             location   damage     Time Flight #  \\\n",
       "0                 fort myer, virginia  unknown    17:18  unknown   \n",
       "1             atlanticity, new jersey  unknown    06:30  unknown   \n",
       "2  victoria, british columbia, canada  unknown  Unknown        -   \n",
       "3                  over the north sea  unknown    18:30  unknown   \n",
       "4          near johannisthal, germany  unknown    10:30  unknown   \n",
       "\n",
       "           Route    cn/In  ...  crashes  serious_injuries minor_injuries  \\\n",
       "0  demonstration        1  ...      0.0               0.0            0.0   \n",
       "1    test flight  unknown  ...      0.0               0.0            0.0   \n",
       "2        unknown  unknown  ...      0.0               0.0            0.0   \n",
       "3        unknown  unknown  ...      0.0               0.0            0.0   \n",
       "4        unknown  unknown  ...      0.0               0.0            0.0   \n",
       "\n",
       "  incidents        date  year  month  day hour  fatality_overcount  \n",
       "0       0.0  1908-09-17  1908      9   17   17               False  \n",
       "1       0.0  1912-07-12  1912      7   12    6               False  \n",
       "2       0.0  1913-08-06  1913      8    6   -1               False  \n",
       "3       0.0  1913-09-09  1913      9    9   18               False  \n",
       "4       0.0  1913-10-17  1913     10   17   10               False  \n",
       "\n",
       "[5 rows x 24 columns]"
      ]
     },
     "execution_count": 3,
     "metadata": {},
     "output_type": "execute_result"
    }
   ],
   "source": [
    "df.head()"
   ]
  },
  {
   "cell_type": "code",
   "execution_count": 4,
   "id": "9e247d50",
   "metadata": {
    "execution": {
     "iopub.execute_input": "2025-07-05T04:21:26.467807Z",
     "iopub.status.busy": "2025-07-05T04:21:26.466766Z",
     "iopub.status.idle": "2025-07-05T04:21:26.498294Z",
     "shell.execute_reply": "2025-07-05T04:21:26.497266Z"
    },
    "papermill": {
     "duration": 0.03877,
     "end_time": "2025-07-05T04:21:26.500074",
     "exception": false,
     "start_time": "2025-07-05T04:21:26.461304",
     "status": "completed"
    },
    "tags": []
   },
   "outputs": [
    {
     "data": {
      "text/plain": [
       "aircraft_type         0\n",
       "registration          0\n",
       "operator              0\n",
       "fatalities            0\n",
       "location              0\n",
       "damage                0\n",
       "Time                  0\n",
       "Flight #              0\n",
       "Route                 0\n",
       "cn/In                 0\n",
       "Aboard                0\n",
       "Ground                0\n",
       "Summary               0\n",
       "summary               0\n",
       "crashes               0\n",
       "serious_injuries      0\n",
       "minor_injuries        0\n",
       "incidents             0\n",
       "date                  0\n",
       "year                  0\n",
       "month                 0\n",
       "day                   0\n",
       "hour                  0\n",
       "fatality_overcount    0\n",
       "dtype: int64"
      ]
     },
     "execution_count": 4,
     "metadata": {},
     "output_type": "execute_result"
    }
   ],
   "source": [
    "df.isnull().sum()"
   ]
  },
  {
   "cell_type": "code",
   "execution_count": 5,
   "id": "caceeaac",
   "metadata": {
    "execution": {
     "iopub.execute_input": "2025-07-05T04:21:26.509965Z",
     "iopub.status.busy": "2025-07-05T04:21:26.509545Z",
     "iopub.status.idle": "2025-07-05T04:21:26.516625Z",
     "shell.execute_reply": "2025-07-05T04:21:26.515525Z"
    },
    "papermill": {
     "duration": 0.013952,
     "end_time": "2025-07-05T04:21:26.518202",
     "exception": false,
     "start_time": "2025-07-05T04:21:26.504250",
     "status": "completed"
    },
    "tags": []
   },
   "outputs": [
    {
     "data": {
      "text/plain": [
       "(30968, 24)"
      ]
     },
     "execution_count": 5,
     "metadata": {},
     "output_type": "execute_result"
    }
   ],
   "source": [
    "df.shape"
   ]
  },
  {
   "cell_type": "code",
   "execution_count": 6,
   "id": "036901f6",
   "metadata": {
    "execution": {
     "iopub.execute_input": "2025-07-05T04:21:26.528768Z",
     "iopub.status.busy": "2025-07-05T04:21:26.527644Z",
     "iopub.status.idle": "2025-07-05T04:21:26.542823Z",
     "shell.execute_reply": "2025-07-05T04:21:26.541704Z"
    },
    "papermill": {
     "duration": 0.022133,
     "end_time": "2025-07-05T04:21:26.544547",
     "exception": false,
     "start_time": "2025-07-05T04:21:26.522414",
     "status": "completed"
    },
    "tags": []
   },
   "outputs": [
    {
     "data": {
      "text/plain": [
       "fatality_overcount\n",
       "False    22055\n",
       "True      8913\n",
       "Name: count, dtype: int64"
      ]
     },
     "execution_count": 6,
     "metadata": {},
     "output_type": "execute_result"
    }
   ],
   "source": [
    "df.fatality_overcount.value_counts()"
   ]
  },
  {
   "cell_type": "markdown",
   "id": "6c7b7a1c",
   "metadata": {
    "papermill": {
     "duration": 0.003888,
     "end_time": "2025-07-05T04:21:26.552636",
     "exception": false,
     "start_time": "2025-07-05T04:21:26.548748",
     "status": "completed"
    },
    "tags": []
   },
   "source": [
    "# data preprocessing"
   ]
  },
  {
   "cell_type": "code",
   "execution_count": 7,
   "id": "9944e275",
   "metadata": {
    "execution": {
     "iopub.execute_input": "2025-07-05T04:21:26.562007Z",
     "iopub.status.busy": "2025-07-05T04:21:26.561582Z",
     "iopub.status.idle": "2025-07-05T04:21:26.569655Z",
     "shell.execute_reply": "2025-07-05T04:21:26.568550Z"
    },
    "papermill": {
     "duration": 0.015071,
     "end_time": "2025-07-05T04:21:26.571574",
     "exception": false,
     "start_time": "2025-07-05T04:21:26.556503",
     "status": "completed"
    },
    "tags": []
   },
   "outputs": [],
   "source": [
    "# renaming columns\n",
    "df.rename(columns={'Summary': 'summ1', 'summary': 'summ2'}, inplace=True)"
   ]
  },
  {
   "cell_type": "code",
   "execution_count": 8,
   "id": "a7adcd8a",
   "metadata": {
    "execution": {
     "iopub.execute_input": "2025-07-05T04:21:26.582229Z",
     "iopub.status.busy": "2025-07-05T04:21:26.581807Z",
     "iopub.status.idle": "2025-07-05T04:21:26.587405Z",
     "shell.execute_reply": "2025-07-05T04:21:26.586441Z"
    },
    "papermill": {
     "duration": 0.012815,
     "end_time": "2025-07-05T04:21:26.589016",
     "exception": false,
     "start_time": "2025-07-05T04:21:26.576201",
     "status": "completed"
    },
    "tags": []
   },
   "outputs": [],
   "source": [
    "# converting columns to lowercase\n",
    "df.columns = df.columns.str.lower()"
   ]
  },
  {
   "cell_type": "code",
   "execution_count": 9,
   "id": "90378aa8",
   "metadata": {
    "execution": {
     "iopub.execute_input": "2025-07-05T04:21:26.598537Z",
     "iopub.status.busy": "2025-07-05T04:21:26.598243Z",
     "iopub.status.idle": "2025-07-05T04:21:26.609551Z",
     "shell.execute_reply": "2025-07-05T04:21:26.608073Z"
    },
    "papermill": {
     "duration": 0.018367,
     "end_time": "2025-07-05T04:21:26.611516",
     "exception": false,
     "start_time": "2025-07-05T04:21:26.593149",
     "status": "completed"
    },
    "tags": []
   },
   "outputs": [],
   "source": [
    "# converting data type from float to int\n",
    "df.aboard = df.aboard.astype(int)\n",
    "df.fatalities = df.fatalities.astype(int)\n",
    "df.crashes = df.crashes.astype(int)\n",
    "df.serious_injuries = df.serious_injuries.astype(int)\n",
    "df.minor_injuries = df.minor_injuries.astype(int)\n",
    "df.incidents = df.incidents.astype(int)"
   ]
  },
  {
   "cell_type": "code",
   "execution_count": 10,
   "id": "dbaf84c8",
   "metadata": {
    "execution": {
     "iopub.execute_input": "2025-07-05T04:21:26.621012Z",
     "iopub.status.busy": "2025-07-05T04:21:26.620649Z",
     "iopub.status.idle": "2025-07-05T04:21:26.632583Z",
     "shell.execute_reply": "2025-07-05T04:21:26.631422Z"
    },
    "papermill": {
     "duration": 0.018865,
     "end_time": "2025-07-05T04:21:26.634530",
     "exception": false,
     "start_time": "2025-07-05T04:21:26.615665",
     "status": "completed"
    },
    "tags": []
   },
   "outputs": [],
   "source": [
    "# taking last 2 decade data\n",
    "df = df[(df['year'] >= 2005) & (df['year'] <= 2025)]"
   ]
  },
  {
   "cell_type": "code",
   "execution_count": 11,
   "id": "54b68069",
   "metadata": {
    "execution": {
     "iopub.execute_input": "2025-07-05T04:21:26.644725Z",
     "iopub.status.busy": "2025-07-05T04:21:26.644286Z",
     "iopub.status.idle": "2025-07-05T04:21:26.672775Z",
     "shell.execute_reply": "2025-07-05T04:21:26.671709Z"
    },
    "papermill": {
     "duration": 0.035646,
     "end_time": "2025-07-05T04:21:26.674547",
     "exception": false,
     "start_time": "2025-07-05T04:21:26.638901",
     "status": "completed"
    },
    "tags": []
   },
   "outputs": [
    {
     "data": {
      "text/html": [
       "<div>\n",
       "<style scoped>\n",
       "    .dataframe tbody tr th:only-of-type {\n",
       "        vertical-align: middle;\n",
       "    }\n",
       "\n",
       "    .dataframe tbody tr th {\n",
       "        vertical-align: top;\n",
       "    }\n",
       "\n",
       "    .dataframe thead th {\n",
       "        text-align: right;\n",
       "    }\n",
       "</style>\n",
       "<table border=\"1\" class=\"dataframe\">\n",
       "  <thead>\n",
       "    <tr style=\"text-align: right;\">\n",
       "      <th></th>\n",
       "      <th>aircraft_type</th>\n",
       "      <th>registration</th>\n",
       "      <th>operator</th>\n",
       "      <th>fatalities</th>\n",
       "      <th>location</th>\n",
       "      <th>damage</th>\n",
       "      <th>time</th>\n",
       "      <th>flight #</th>\n",
       "      <th>route</th>\n",
       "      <th>cn/in</th>\n",
       "      <th>...</th>\n",
       "      <th>summ2</th>\n",
       "      <th>crashes</th>\n",
       "      <th>serious_injuries</th>\n",
       "      <th>minor_injuries</th>\n",
       "      <th>incidents</th>\n",
       "      <th>year</th>\n",
       "      <th>month</th>\n",
       "      <th>day</th>\n",
       "      <th>hour</th>\n",
       "      <th>fatality_overcount</th>\n",
       "    </tr>\n",
       "    <tr>\n",
       "      <th>date</th>\n",
       "      <th></th>\n",
       "      <th></th>\n",
       "      <th></th>\n",
       "      <th></th>\n",
       "      <th></th>\n",
       "      <th></th>\n",
       "      <th></th>\n",
       "      <th></th>\n",
       "      <th></th>\n",
       "      <th></th>\n",
       "      <th></th>\n",
       "      <th></th>\n",
       "      <th></th>\n",
       "      <th></th>\n",
       "      <th></th>\n",
       "      <th></th>\n",
       "      <th></th>\n",
       "      <th></th>\n",
       "      <th></th>\n",
       "      <th></th>\n",
       "      <th></th>\n",
       "    </tr>\n",
       "  </thead>\n",
       "  <tbody>\n",
       "    <tr>\n",
       "      <th>2005-01-01</th>\n",
       "      <td>cessna 551 citation ii/sp</td>\n",
       "      <td>n35403</td>\n",
       "      <td>jet services</td>\n",
       "      <td>0</td>\n",
       "      <td>ainsworth airport, ne (anw)</td>\n",
       "      <td>w/o</td>\n",
       "      <td>Unknown</td>\n",
       "      <td>unknown</td>\n",
       "      <td>unknown</td>\n",
       "      <td>unknown</td>\n",
       "      <td>...</td>\n",
       "      <td>No summary available</td>\n",
       "      <td>0</td>\n",
       "      <td>0</td>\n",
       "      <td>0</td>\n",
       "      <td>0</td>\n",
       "      <td>2005</td>\n",
       "      <td>1</td>\n",
       "      <td>1</td>\n",
       "      <td>-1</td>\n",
       "      <td>False</td>\n",
       "    </tr>\n",
       "    <tr>\n",
       "      <th>2005-01-01</th>\n",
       "      <td>unknown</td>\n",
       "      <td>unknown</td>\n",
       "      <td>unknown</td>\n",
       "      <td>1689</td>\n",
       "      <td>unknown</td>\n",
       "      <td>unknown</td>\n",
       "      <td>Unknown</td>\n",
       "      <td>unknown</td>\n",
       "      <td>unknown</td>\n",
       "      <td>unknown</td>\n",
       "      <td>...</td>\n",
       "      <td>No summary available</td>\n",
       "      <td>2031</td>\n",
       "      <td>426</td>\n",
       "      <td>620</td>\n",
       "      <td>0</td>\n",
       "      <td>2005</td>\n",
       "      <td>1</td>\n",
       "      <td>1</td>\n",
       "      <td>-1</td>\n",
       "      <td>True</td>\n",
       "    </tr>\n",
       "  </tbody>\n",
       "</table>\n",
       "<p>2 rows × 23 columns</p>\n",
       "</div>"
      ],
      "text/plain": [
       "                        aircraft_type registration      operator  fatalities  \\\n",
       "date                                                                           \n",
       "2005-01-01  cessna 551 citation ii/sp       n35403  jet services           0   \n",
       "2005-01-01                    unknown      unknown       unknown        1689   \n",
       "\n",
       "                               location   damage     time flight #    route  \\\n",
       "date                                                                          \n",
       "2005-01-01  ainsworth airport, ne (anw)      w/o  Unknown  unknown  unknown   \n",
       "2005-01-01                      unknown  unknown  Unknown  unknown  unknown   \n",
       "\n",
       "              cn/in  ...                 summ2  crashes serious_injuries  \\\n",
       "date                 ...                                                   \n",
       "2005-01-01  unknown  ...  No summary available        0                0   \n",
       "2005-01-01  unknown  ...  No summary available     2031              426   \n",
       "\n",
       "           minor_injuries  incidents  year  month  day  hour  \\\n",
       "date                                                           \n",
       "2005-01-01              0          0  2005      1    1    -1   \n",
       "2005-01-01            620          0  2005      1    1    -1   \n",
       "\n",
       "            fatality_overcount  \n",
       "date                            \n",
       "2005-01-01               False  \n",
       "2005-01-01                True  \n",
       "\n",
       "[2 rows x 23 columns]"
      ]
     },
     "execution_count": 11,
     "metadata": {},
     "output_type": "execute_result"
    }
   ],
   "source": [
    "# reset index to date (datetime)\n",
    "df['date'] = pd.to_datetime(df['date'])\n",
    "df.set_index('date', inplace = True)\n",
    "df.head(2)"
   ]
  },
  {
   "cell_type": "code",
   "execution_count": 12,
   "id": "67bf93de",
   "metadata": {
    "execution": {
     "iopub.execute_input": "2025-07-05T04:21:26.684641Z",
     "iopub.status.busy": "2025-07-05T04:21:26.684212Z",
     "iopub.status.idle": "2025-07-05T04:21:26.688651Z",
     "shell.execute_reply": "2025-07-05T04:21:26.687755Z"
    },
    "papermill": {
     "duration": 0.011668,
     "end_time": "2025-07-05T04:21:26.690595",
     "exception": false,
     "start_time": "2025-07-05T04:21:26.678927",
     "status": "completed"
    },
    "tags": []
   },
   "outputs": [],
   "source": [
    "# df[df.summ1 == 'No summary available'].value_counts().sum() # 4878 valid\n",
    "\n",
    "# df[df.summ2 == 'No summary available'].value_counts().sum() # 31 valid\n",
    "\n",
    "# df[(df.summ2 == 'No summary available') & (df.summ1 == 'No summary available')].value_counts().sum() # 26059"
   ]
  },
  {
   "cell_type": "code",
   "execution_count": 13,
   "id": "21a7cc88",
   "metadata": {
    "execution": {
     "iopub.execute_input": "2025-07-05T04:21:26.701459Z",
     "iopub.status.busy": "2025-07-05T04:21:26.701137Z",
     "iopub.status.idle": "2025-07-05T04:21:26.723509Z",
     "shell.execute_reply": "2025-07-05T04:21:26.722253Z"
    },
    "papermill": {
     "duration": 0.030191,
     "end_time": "2025-07-05T04:21:26.725505",
     "exception": false,
     "start_time": "2025-07-05T04:21:26.695314",
     "status": "completed"
    },
    "tags": []
   },
   "outputs": [
    {
     "name": "stdout",
     "output_type": "stream",
     "text": [
      "<class 'pandas.core.frame.DataFrame'>\n",
      "DatetimeIndex: 5469 entries, 2005-01-01 to 2025-11-14\n",
      "Data columns (total 23 columns):\n",
      " #   Column              Non-Null Count  Dtype  \n",
      "---  ------              --------------  -----  \n",
      " 0   aircraft_type       5469 non-null   object \n",
      " 1   registration        5469 non-null   object \n",
      " 2   operator            5469 non-null   object \n",
      " 3   fatalities          5469 non-null   int64  \n",
      " 4   location            5469 non-null   object \n",
      " 5   damage              5469 non-null   object \n",
      " 6   time                5469 non-null   object \n",
      " 7   flight #            5469 non-null   object \n",
      " 8   route               5469 non-null   object \n",
      " 9   cn/in               5469 non-null   object \n",
      " 10  aboard              5469 non-null   int64  \n",
      " 11  ground              5469 non-null   float64\n",
      " 12  summ1               5469 non-null   object \n",
      " 13  summ2               5469 non-null   object \n",
      " 14  crashes             5469 non-null   int64  \n",
      " 15  serious_injuries    5469 non-null   int64  \n",
      " 16  minor_injuries      5469 non-null   int64  \n",
      " 17  incidents           5469 non-null   int64  \n",
      " 18  year                5469 non-null   int64  \n",
      " 19  month               5469 non-null   int64  \n",
      " 20  day                 5469 non-null   int64  \n",
      " 21  hour                5469 non-null   int64  \n",
      " 22  fatality_overcount  5469 non-null   bool   \n",
      "dtypes: bool(1), float64(1), int64(10), object(11)\n",
      "memory usage: 988.1+ KB\n"
     ]
    }
   ],
   "source": [
    "df.info()"
   ]
  },
  {
   "cell_type": "code",
   "execution_count": null,
   "id": "6de6e8c9",
   "metadata": {
    "execution": {
     "iopub.execute_input": "2025-07-05T04:06:00.938634Z",
     "iopub.status.busy": "2025-07-05T04:06:00.938203Z",
     "iopub.status.idle": "2025-07-05T04:06:00.949285Z",
     "shell.execute_reply": "2025-07-05T04:06:00.948146Z",
     "shell.execute_reply.started": "2025-07-05T04:06:00.938607Z"
    },
    "papermill": {
     "duration": 0.004009,
     "end_time": "2025-07-05T04:21:26.734192",
     "exception": false,
     "start_time": "2025-07-05T04:21:26.730183",
     "status": "completed"
    },
    "tags": []
   },
   "outputs": [],
   "source": []
  },
  {
   "cell_type": "code",
   "execution_count": 14,
   "id": "f2150970",
   "metadata": {
    "execution": {
     "iopub.execute_input": "2025-07-05T04:21:26.744897Z",
     "iopub.status.busy": "2025-07-05T04:21:26.744515Z",
     "iopub.status.idle": "2025-07-05T04:21:26.765542Z",
     "shell.execute_reply": "2025-07-05T04:21:26.764367Z"
    },
    "papermill": {
     "duration": 0.028089,
     "end_time": "2025-07-05T04:21:26.767120",
     "exception": false,
     "start_time": "2025-07-05T04:21:26.739031",
     "status": "completed"
    },
    "tags": []
   },
   "outputs": [
    {
     "data": {
      "text/html": [
       "<div>\n",
       "<style scoped>\n",
       "    .dataframe tbody tr th:only-of-type {\n",
       "        vertical-align: middle;\n",
       "    }\n",
       "\n",
       "    .dataframe tbody tr th {\n",
       "        vertical-align: top;\n",
       "    }\n",
       "\n",
       "    .dataframe thead th {\n",
       "        text-align: right;\n",
       "    }\n",
       "</style>\n",
       "<table border=\"1\" class=\"dataframe\">\n",
       "  <thead>\n",
       "    <tr style=\"text-align: right;\">\n",
       "      <th></th>\n",
       "      <th>aircraft_type</th>\n",
       "      <th>registration</th>\n",
       "      <th>operator</th>\n",
       "      <th>fatalities</th>\n",
       "      <th>location</th>\n",
       "      <th>damage</th>\n",
       "      <th>time</th>\n",
       "      <th>flight #</th>\n",
       "      <th>route</th>\n",
       "      <th>cn/in</th>\n",
       "      <th>...</th>\n",
       "      <th>summ2</th>\n",
       "      <th>crashes</th>\n",
       "      <th>serious_injuries</th>\n",
       "      <th>minor_injuries</th>\n",
       "      <th>incidents</th>\n",
       "      <th>year</th>\n",
       "      <th>month</th>\n",
       "      <th>day</th>\n",
       "      <th>hour</th>\n",
       "      <th>fatality_overcount</th>\n",
       "    </tr>\n",
       "    <tr>\n",
       "      <th>date</th>\n",
       "      <th></th>\n",
       "      <th></th>\n",
       "      <th></th>\n",
       "      <th></th>\n",
       "      <th></th>\n",
       "      <th></th>\n",
       "      <th></th>\n",
       "      <th></th>\n",
       "      <th></th>\n",
       "      <th></th>\n",
       "      <th></th>\n",
       "      <th></th>\n",
       "      <th></th>\n",
       "      <th></th>\n",
       "      <th></th>\n",
       "      <th></th>\n",
       "      <th></th>\n",
       "      <th></th>\n",
       "      <th></th>\n",
       "      <th></th>\n",
       "      <th></th>\n",
       "    </tr>\n",
       "  </thead>\n",
       "  <tbody>\n",
       "    <tr>\n",
       "      <th>2005-01-01</th>\n",
       "      <td>cessna 551 citation ii/sp</td>\n",
       "      <td>n35403</td>\n",
       "      <td>jet services</td>\n",
       "      <td>0</td>\n",
       "      <td>ainsworth airport, ne (anw)</td>\n",
       "      <td>w/o</td>\n",
       "      <td>Unknown</td>\n",
       "      <td>unknown</td>\n",
       "      <td>unknown</td>\n",
       "      <td>unknown</td>\n",
       "      <td>...</td>\n",
       "      <td>No summary available</td>\n",
       "      <td>0</td>\n",
       "      <td>0</td>\n",
       "      <td>0</td>\n",
       "      <td>0</td>\n",
       "      <td>2005</td>\n",
       "      <td>1</td>\n",
       "      <td>1</td>\n",
       "      <td>-1</td>\n",
       "      <td>False</td>\n",
       "    </tr>\n",
       "  </tbody>\n",
       "</table>\n",
       "<p>1 rows × 23 columns</p>\n",
       "</div>"
      ],
      "text/plain": [
       "                        aircraft_type registration      operator  fatalities  \\\n",
       "date                                                                           \n",
       "2005-01-01  cessna 551 citation ii/sp       n35403  jet services           0   \n",
       "\n",
       "                               location damage     time flight #    route  \\\n",
       "date                                                                        \n",
       "2005-01-01  ainsworth airport, ne (anw)    w/o  Unknown  unknown  unknown   \n",
       "\n",
       "              cn/in  ...                 summ2  crashes serious_injuries  \\\n",
       "date                 ...                                                   \n",
       "2005-01-01  unknown  ...  No summary available        0                0   \n",
       "\n",
       "           minor_injuries  incidents  year  month  day  hour  \\\n",
       "date                                                           \n",
       "2005-01-01              0          0  2005      1    1    -1   \n",
       "\n",
       "            fatality_overcount  \n",
       "date                            \n",
       "2005-01-01               False  \n",
       "\n",
       "[1 rows x 23 columns]"
      ]
     },
     "execution_count": 14,
     "metadata": {},
     "output_type": "execute_result"
    }
   ],
   "source": [
    "df.head(1)"
   ]
  },
  {
   "cell_type": "code",
   "execution_count": 15,
   "id": "5f44b8bd",
   "metadata": {
    "execution": {
     "iopub.execute_input": "2025-07-05T04:21:26.777467Z",
     "iopub.status.busy": "2025-07-05T04:21:26.777142Z",
     "iopub.status.idle": "2025-07-05T04:21:26.812714Z",
     "shell.execute_reply": "2025-07-05T04:21:26.811716Z"
    },
    "papermill": {
     "duration": 0.042877,
     "end_time": "2025-07-05T04:21:26.814576",
     "exception": false,
     "start_time": "2025-07-05T04:21:26.771699",
     "status": "completed"
    },
    "tags": []
   },
   "outputs": [
    {
     "data": {
      "text/plain": [
       "5454"
      ]
     },
     "execution_count": 15,
     "metadata": {},
     "output_type": "execute_result"
    }
   ],
   "source": [
    "df[df['crashes']==0].value_counts().sum()"
   ]
  },
  {
   "cell_type": "code",
   "execution_count": null,
   "id": "ecb7752b",
   "metadata": {
    "papermill": {
     "duration": 0.004594,
     "end_time": "2025-07-05T04:21:26.823826",
     "exception": false,
     "start_time": "2025-07-05T04:21:26.819232",
     "status": "completed"
    },
    "tags": []
   },
   "outputs": [],
   "source": []
  }
 ],
 "metadata": {
  "kaggle": {
   "accelerator": "none",
   "dataSources": [
    {
     "datasetId": 7802076,
     "sourceId": 12373864,
     "sourceType": "datasetVersion"
    }
   ],
   "dockerImageVersionId": 31040,
   "isGpuEnabled": false,
   "isInternetEnabled": false,
   "language": "python",
   "sourceType": "notebook"
  },
  "kernelspec": {
   "display_name": "Python 3",
   "language": "python",
   "name": "python3"
  },
  "language_info": {
   "codemirror_mode": {
    "name": "ipython",
    "version": 3
   },
   "file_extension": ".py",
   "mimetype": "text/x-python",
   "name": "python",
   "nbconvert_exporter": "python",
   "pygments_lexer": "ipython3",
   "version": "3.11.11"
  },
  "papermill": {
   "default_parameters": {},
   "duration": 12.819916,
   "end_time": "2025-07-05T04:21:27.851977",
   "environment_variables": {},
   "exception": null,
   "input_path": "__notebook__.ipynb",
   "output_path": "__notebook__.ipynb",
   "parameters": {},
   "start_time": "2025-07-05T04:21:15.032061",
   "version": "2.6.0"
  }
 },
 "nbformat": 4,
 "nbformat_minor": 5
}
