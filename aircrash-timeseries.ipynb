{
 "cells": [
  {
   "cell_type": "code",
   "execution_count": 1,
   "id": "68f1de83",
   "metadata": {
    "execution": {
     "iopub.execute_input": "2025-07-04T19:06:22.648804Z",
     "iopub.status.busy": "2025-07-04T19:06:22.648446Z",
     "iopub.status.idle": "2025-07-04T19:06:27.124547Z",
     "shell.execute_reply": "2025-07-04T19:06:27.123489Z"
    },
    "papermill": {
     "duration": 4.483362,
     "end_time": "2025-07-04T19:06:27.126825",
     "exception": false,
     "start_time": "2025-07-04T19:06:22.643463",
     "status": "completed"
    },
    "tags": []
   },
   "outputs": [],
   "source": [
    "import pandas as pd\n",
    "import numpy as np\n",
    "import matplotlib.pyplot as plt\n",
    "import seaborn as sn"
   ]
  },
  {
   "cell_type": "markdown",
   "id": "8591074d",
   "metadata": {
    "papermill": {
     "duration": 0.002975,
     "end_time": "2025-07-04T19:06:27.133982",
     "exception": false,
     "start_time": "2025-07-04T19:06:27.131007",
     "status": "completed"
    },
    "tags": []
   },
   "source": [
    "# loading dataset"
   ]
  },
  {
   "cell_type": "code",
   "execution_count": 2,
   "id": "3345ad17",
   "metadata": {
    "execution": {
     "iopub.execute_input": "2025-07-04T19:06:27.141967Z",
     "iopub.status.busy": "2025-07-04T19:06:27.141393Z",
     "iopub.status.idle": "2025-07-04T19:06:27.509642Z",
     "shell.execute_reply": "2025-07-04T19:06:27.508754Z"
    },
    "papermill": {
     "duration": 0.374334,
     "end_time": "2025-07-04T19:06:27.511481",
     "exception": false,
     "start_time": "2025-07-04T19:06:27.137147",
     "status": "completed"
    },
    "tags": []
   },
   "outputs": [],
   "source": [
    "df = pd.read_csv('/kaggle/input/aeroplane-crash-data-from-1919-to-2025/cleaned_data.csv')"
   ]
  },
  {
   "cell_type": "code",
   "execution_count": 3,
   "id": "cc80d107",
   "metadata": {
    "execution": {
     "iopub.execute_input": "2025-07-04T19:06:27.519501Z",
     "iopub.status.busy": "2025-07-04T19:06:27.518692Z",
     "iopub.status.idle": "2025-07-04T19:06:27.564418Z",
     "shell.execute_reply": "2025-07-04T19:06:27.563481Z"
    },
    "papermill": {
     "duration": 0.051218,
     "end_time": "2025-07-04T19:06:27.566072",
     "exception": false,
     "start_time": "2025-07-04T19:06:27.514854",
     "status": "completed"
    },
    "tags": []
   },
   "outputs": [
    {
     "data": {
      "text/html": [
       "<div>\n",
       "<style scoped>\n",
       "    .dataframe tbody tr th:only-of-type {\n",
       "        vertical-align: middle;\n",
       "    }\n",
       "\n",
       "    .dataframe tbody tr th {\n",
       "        vertical-align: top;\n",
       "    }\n",
       "\n",
       "    .dataframe thead th {\n",
       "        text-align: right;\n",
       "    }\n",
       "</style>\n",
       "<table border=\"1\" class=\"dataframe\">\n",
       "  <thead>\n",
       "    <tr style=\"text-align: right;\">\n",
       "      <th></th>\n",
       "      <th>aircraft_type</th>\n",
       "      <th>registration</th>\n",
       "      <th>operator</th>\n",
       "      <th>fatalities</th>\n",
       "      <th>location</th>\n",
       "      <th>damage</th>\n",
       "      <th>Time</th>\n",
       "      <th>Flight #</th>\n",
       "      <th>Route</th>\n",
       "      <th>cn/In</th>\n",
       "      <th>...</th>\n",
       "      <th>crashes</th>\n",
       "      <th>serious_injuries</th>\n",
       "      <th>minor_injuries</th>\n",
       "      <th>incidents</th>\n",
       "      <th>date</th>\n",
       "      <th>year</th>\n",
       "      <th>month</th>\n",
       "      <th>day</th>\n",
       "      <th>hour</th>\n",
       "      <th>fatality_overcount</th>\n",
       "    </tr>\n",
       "  </thead>\n",
       "  <tbody>\n",
       "    <tr>\n",
       "      <th>0</th>\n",
       "      <td>wright flyer iii</td>\n",
       "      <td>unknown</td>\n",
       "      <td>military - u.s. army</td>\n",
       "      <td>1.0</td>\n",
       "      <td>fort myer, virginia</td>\n",
       "      <td>unknown</td>\n",
       "      <td>17:18</td>\n",
       "      <td>unknown</td>\n",
       "      <td>demonstration</td>\n",
       "      <td>1</td>\n",
       "      <td>...</td>\n",
       "      <td>0.0</td>\n",
       "      <td>0.0</td>\n",
       "      <td>0.0</td>\n",
       "      <td>0.0</td>\n",
       "      <td>1908-09-17</td>\n",
       "      <td>1908</td>\n",
       "      <td>9</td>\n",
       "      <td>17</td>\n",
       "      <td>17</td>\n",
       "      <td>False</td>\n",
       "    </tr>\n",
       "    <tr>\n",
       "      <th>1</th>\n",
       "      <td>dirigible</td>\n",
       "      <td>unknown</td>\n",
       "      <td>mililtary - u.s. navy</td>\n",
       "      <td>5.0</td>\n",
       "      <td>atlanticity, new jersey</td>\n",
       "      <td>unknown</td>\n",
       "      <td>06:30</td>\n",
       "      <td>unknown</td>\n",
       "      <td>test flight</td>\n",
       "      <td>unknown</td>\n",
       "      <td>...</td>\n",
       "      <td>0.0</td>\n",
       "      <td>0.0</td>\n",
       "      <td>0.0</td>\n",
       "      <td>0.0</td>\n",
       "      <td>1912-07-12</td>\n",
       "      <td>1912</td>\n",
       "      <td>7</td>\n",
       "      <td>12</td>\n",
       "      <td>6</td>\n",
       "      <td>False</td>\n",
       "    </tr>\n",
       "    <tr>\n",
       "      <th>2</th>\n",
       "      <td>curtiss seaplane</td>\n",
       "      <td>unknown</td>\n",
       "      <td>private</td>\n",
       "      <td>1.0</td>\n",
       "      <td>victoria, british columbia, canada</td>\n",
       "      <td>unknown</td>\n",
       "      <td>Unknown</td>\n",
       "      <td>-</td>\n",
       "      <td>unknown</td>\n",
       "      <td>unknown</td>\n",
       "      <td>...</td>\n",
       "      <td>0.0</td>\n",
       "      <td>0.0</td>\n",
       "      <td>0.0</td>\n",
       "      <td>0.0</td>\n",
       "      <td>1913-08-06</td>\n",
       "      <td>1913</td>\n",
       "      <td>8</td>\n",
       "      <td>6</td>\n",
       "      <td>-1</td>\n",
       "      <td>False</td>\n",
       "    </tr>\n",
       "    <tr>\n",
       "      <th>3</th>\n",
       "      <td>zeppelin l-1 (airship)</td>\n",
       "      <td>unknown</td>\n",
       "      <td>military - german navy</td>\n",
       "      <td>14.0</td>\n",
       "      <td>over the north sea</td>\n",
       "      <td>unknown</td>\n",
       "      <td>18:30</td>\n",
       "      <td>unknown</td>\n",
       "      <td>unknown</td>\n",
       "      <td>unknown</td>\n",
       "      <td>...</td>\n",
       "      <td>0.0</td>\n",
       "      <td>0.0</td>\n",
       "      <td>0.0</td>\n",
       "      <td>0.0</td>\n",
       "      <td>1913-09-09</td>\n",
       "      <td>1913</td>\n",
       "      <td>9</td>\n",
       "      <td>9</td>\n",
       "      <td>18</td>\n",
       "      <td>False</td>\n",
       "    </tr>\n",
       "    <tr>\n",
       "      <th>4</th>\n",
       "      <td>zeppelin l-2 (airship)</td>\n",
       "      <td>unknown</td>\n",
       "      <td>military - german navy</td>\n",
       "      <td>30.0</td>\n",
       "      <td>near johannisthal, germany</td>\n",
       "      <td>unknown</td>\n",
       "      <td>10:30</td>\n",
       "      <td>unknown</td>\n",
       "      <td>unknown</td>\n",
       "      <td>unknown</td>\n",
       "      <td>...</td>\n",
       "      <td>0.0</td>\n",
       "      <td>0.0</td>\n",
       "      <td>0.0</td>\n",
       "      <td>0.0</td>\n",
       "      <td>1913-10-17</td>\n",
       "      <td>1913</td>\n",
       "      <td>10</td>\n",
       "      <td>17</td>\n",
       "      <td>10</td>\n",
       "      <td>False</td>\n",
       "    </tr>\n",
       "  </tbody>\n",
       "</table>\n",
       "<p>5 rows × 24 columns</p>\n",
       "</div>"
      ],
      "text/plain": [
       "            aircraft_type registration                operator  fatalities  \\\n",
       "0        wright flyer iii      unknown    military - u.s. army         1.0   \n",
       "1               dirigible      unknown   mililtary - u.s. navy         5.0   \n",
       "2        curtiss seaplane      unknown                 private         1.0   \n",
       "3  zeppelin l-1 (airship)      unknown  military - german navy        14.0   \n",
       "4  zeppelin l-2 (airship)      unknown  military - german navy        30.0   \n",
       "\n",
       "                             location   damage     Time Flight #  \\\n",
       "0                 fort myer, virginia  unknown    17:18  unknown   \n",
       "1             atlanticity, new jersey  unknown    06:30  unknown   \n",
       "2  victoria, british columbia, canada  unknown  Unknown        -   \n",
       "3                  over the north sea  unknown    18:30  unknown   \n",
       "4          near johannisthal, germany  unknown    10:30  unknown   \n",
       "\n",
       "           Route    cn/In  ...  crashes  serious_injuries minor_injuries  \\\n",
       "0  demonstration        1  ...      0.0               0.0            0.0   \n",
       "1    test flight  unknown  ...      0.0               0.0            0.0   \n",
       "2        unknown  unknown  ...      0.0               0.0            0.0   \n",
       "3        unknown  unknown  ...      0.0               0.0            0.0   \n",
       "4        unknown  unknown  ...      0.0               0.0            0.0   \n",
       "\n",
       "  incidents        date  year  month  day hour  fatality_overcount  \n",
       "0       0.0  1908-09-17  1908      9   17   17               False  \n",
       "1       0.0  1912-07-12  1912      7   12    6               False  \n",
       "2       0.0  1913-08-06  1913      8    6   -1               False  \n",
       "3       0.0  1913-09-09  1913      9    9   18               False  \n",
       "4       0.0  1913-10-17  1913     10   17   10               False  \n",
       "\n",
       "[5 rows x 24 columns]"
      ]
     },
     "execution_count": 3,
     "metadata": {},
     "output_type": "execute_result"
    }
   ],
   "source": [
    "df.head()"
   ]
  },
  {
   "cell_type": "code",
   "execution_count": 4,
   "id": "aed7571e",
   "metadata": {
    "execution": {
     "iopub.execute_input": "2025-07-04T19:06:27.574338Z",
     "iopub.status.busy": "2025-07-04T19:06:27.574004Z",
     "iopub.status.idle": "2025-07-04T19:06:27.601582Z",
     "shell.execute_reply": "2025-07-04T19:06:27.600653Z"
    },
    "papermill": {
     "duration": 0.033775,
     "end_time": "2025-07-04T19:06:27.603341",
     "exception": false,
     "start_time": "2025-07-04T19:06:27.569566",
     "status": "completed"
    },
    "tags": []
   },
   "outputs": [
    {
     "data": {
      "text/plain": [
       "aircraft_type         0\n",
       "registration          0\n",
       "operator              0\n",
       "fatalities            0\n",
       "location              0\n",
       "damage                0\n",
       "Time                  0\n",
       "Flight #              0\n",
       "Route                 0\n",
       "cn/In                 0\n",
       "Aboard                0\n",
       "Ground                0\n",
       "Summary               0\n",
       "summary               0\n",
       "crashes               0\n",
       "serious_injuries      0\n",
       "minor_injuries        0\n",
       "incidents             0\n",
       "date                  0\n",
       "year                  0\n",
       "month                 0\n",
       "day                   0\n",
       "hour                  0\n",
       "fatality_overcount    0\n",
       "dtype: int64"
      ]
     },
     "execution_count": 4,
     "metadata": {},
     "output_type": "execute_result"
    }
   ],
   "source": [
    "df.isnull().sum()"
   ]
  },
  {
   "cell_type": "code",
   "execution_count": 5,
   "id": "8feb5e74",
   "metadata": {
    "execution": {
     "iopub.execute_input": "2025-07-04T19:06:27.611898Z",
     "iopub.status.busy": "2025-07-04T19:06:27.611483Z",
     "iopub.status.idle": "2025-07-04T19:06:27.617714Z",
     "shell.execute_reply": "2025-07-04T19:06:27.616707Z"
    },
    "papermill": {
     "duration": 0.012341,
     "end_time": "2025-07-04T19:06:27.619432",
     "exception": false,
     "start_time": "2025-07-04T19:06:27.607091",
     "status": "completed"
    },
    "tags": []
   },
   "outputs": [
    {
     "data": {
      "text/plain": [
       "(30968, 24)"
      ]
     },
     "execution_count": 5,
     "metadata": {},
     "output_type": "execute_result"
    }
   ],
   "source": [
    "df.shape"
   ]
  },
  {
   "cell_type": "code",
   "execution_count": 6,
   "id": "11a8e7f9",
   "metadata": {
    "execution": {
     "iopub.execute_input": "2025-07-04T19:06:27.628266Z",
     "iopub.status.busy": "2025-07-04T19:06:27.627958Z",
     "iopub.status.idle": "2025-07-04T19:06:27.637541Z",
     "shell.execute_reply": "2025-07-04T19:06:27.636308Z"
    },
    "papermill": {
     "duration": 0.016014,
     "end_time": "2025-07-04T19:06:27.639254",
     "exception": false,
     "start_time": "2025-07-04T19:06:27.623240",
     "status": "completed"
    },
    "tags": []
   },
   "outputs": [],
   "source": [
    "df.rename(columns={'Summary': 'summ1', 'summary': 'summ2'}, inplace=True)"
   ]
  },
  {
   "cell_type": "code",
   "execution_count": 7,
   "id": "83530f2a",
   "metadata": {
    "execution": {
     "iopub.execute_input": "2025-07-04T19:06:27.648479Z",
     "iopub.status.busy": "2025-07-04T19:06:27.648131Z",
     "iopub.status.idle": "2025-07-04T19:06:27.653894Z",
     "shell.execute_reply": "2025-07-04T19:06:27.652839Z"
    },
    "papermill": {
     "duration": 0.012443,
     "end_time": "2025-07-04T19:06:27.655481",
     "exception": false,
     "start_time": "2025-07-04T19:06:27.643038",
     "status": "completed"
    },
    "tags": []
   },
   "outputs": [],
   "source": [
    "# converting columns to lowercase\n",
    "df.columns = df.columns.str.lower()"
   ]
  },
  {
   "cell_type": "code",
   "execution_count": 8,
   "id": "46854846",
   "metadata": {
    "execution": {
     "iopub.execute_input": "2025-07-04T19:06:27.664051Z",
     "iopub.status.busy": "2025-07-04T19:06:27.663702Z",
     "iopub.status.idle": "2025-07-04T19:06:27.674127Z",
     "shell.execute_reply": "2025-07-04T19:06:27.673138Z"
    },
    "papermill": {
     "duration": 0.016699,
     "end_time": "2025-07-04T19:06:27.675891",
     "exception": false,
     "start_time": "2025-07-04T19:06:27.659192",
     "status": "completed"
    },
    "tags": []
   },
   "outputs": [],
   "source": [
    "df.aboard = df.aboard.astype(int)\n",
    "df.fatalities = df.fatalities.astype(int)\n",
    "df.crashes = df.crashes.astype(int)\n",
    "df.serious_injuries = df.serious_injuries.astype(int)\n",
    "df.minor_injuries = df.minor_injuries.astype(int)\n",
    "df.incidents = df.incidents.astype(int)"
   ]
  },
  {
   "cell_type": "code",
   "execution_count": 9,
   "id": "f9a997da",
   "metadata": {
    "execution": {
     "iopub.execute_input": "2025-07-04T19:06:27.684315Z",
     "iopub.status.busy": "2025-07-04T19:06:27.684018Z",
     "iopub.status.idle": "2025-07-04T19:06:27.688579Z",
     "shell.execute_reply": "2025-07-04T19:06:27.687399Z"
    },
    "papermill": {
     "duration": 0.010986,
     "end_time": "2025-07-04T19:06:27.690537",
     "exception": false,
     "start_time": "2025-07-04T19:06:27.679551",
     "status": "completed"
    },
    "tags": []
   },
   "outputs": [],
   "source": [
    "# df[df.summ1 == 'No summary available'].value_counts().sum() # 4878 valid\n",
    "\n",
    "# df[df.summ2 == 'No summary available'].value_counts().sum() # 31 valid\n",
    "\n",
    "# df[(df.summ2 == 'No summary available') & (df.summ1 == 'No summary available')].value_counts().sum() # 26059"
   ]
  },
  {
   "cell_type": "code",
   "execution_count": 10,
   "id": "8680a3d5",
   "metadata": {
    "execution": {
     "iopub.execute_input": "2025-07-04T19:06:27.700317Z",
     "iopub.status.busy": "2025-07-04T19:06:27.699987Z",
     "iopub.status.idle": "2025-07-04T19:06:27.745194Z",
     "shell.execute_reply": "2025-07-04T19:06:27.743801Z"
    },
    "papermill": {
     "duration": 0.052604,
     "end_time": "2025-07-04T19:06:27.746928",
     "exception": false,
     "start_time": "2025-07-04T19:06:27.694324",
     "status": "completed"
    },
    "tags": []
   },
   "outputs": [
    {
     "name": "stdout",
     "output_type": "stream",
     "text": [
      "<class 'pandas.core.frame.DataFrame'>\n",
      "RangeIndex: 30968 entries, 0 to 30967\n",
      "Data columns (total 24 columns):\n",
      " #   Column              Non-Null Count  Dtype  \n",
      "---  ------              --------------  -----  \n",
      " 0   aircraft_type       30968 non-null  object \n",
      " 1   registration        30968 non-null  object \n",
      " 2   operator            30968 non-null  object \n",
      " 3   fatalities          30968 non-null  int64  \n",
      " 4   location            30968 non-null  object \n",
      " 5   damage              30968 non-null  object \n",
      " 6   time                30968 non-null  object \n",
      " 7   flight #            30968 non-null  object \n",
      " 8   route               30968 non-null  object \n",
      " 9   cn/in               30968 non-null  object \n",
      " 10  aboard              30968 non-null  int64  \n",
      " 11  ground              30968 non-null  float64\n",
      " 12  summ1               30968 non-null  object \n",
      " 13  summ2               30968 non-null  object \n",
      " 14  crashes             30968 non-null  int64  \n",
      " 15  serious_injuries    30968 non-null  int64  \n",
      " 16  minor_injuries      30968 non-null  int64  \n",
      " 17  incidents           30968 non-null  int64  \n",
      " 18  date                30968 non-null  object \n",
      " 19  year                30968 non-null  int64  \n",
      " 20  month               30968 non-null  int64  \n",
      " 21  day                 30968 non-null  int64  \n",
      " 22  hour                30968 non-null  int64  \n",
      " 23  fatality_overcount  30968 non-null  bool   \n",
      "dtypes: bool(1), float64(1), int64(10), object(12)\n",
      "memory usage: 5.5+ MB\n"
     ]
    }
   ],
   "source": [
    "df.info()"
   ]
  },
  {
   "cell_type": "code",
   "execution_count": 11,
   "id": "90749b40",
   "metadata": {
    "execution": {
     "iopub.execute_input": "2025-07-04T19:06:27.756454Z",
     "iopub.status.busy": "2025-07-04T19:06:27.756116Z",
     "iopub.status.idle": "2025-07-04T19:06:27.766645Z",
     "shell.execute_reply": "2025-07-04T19:06:27.765336Z"
    },
    "papermill": {
     "duration": 0.017815,
     "end_time": "2025-07-04T19:06:27.768612",
     "exception": false,
     "start_time": "2025-07-04T19:06:27.750797",
     "status": "completed"
    },
    "tags": []
   },
   "outputs": [
    {
     "data": {
      "text/plain": [
       "fatality_overcount\n",
       "False    22055\n",
       "True      8913\n",
       "Name: count, dtype: int64"
      ]
     },
     "execution_count": 11,
     "metadata": {},
     "output_type": "execute_result"
    }
   ],
   "source": [
    "df.fatality_overcount.value_counts()"
   ]
  },
  {
   "cell_type": "code",
   "execution_count": 12,
   "id": "c1f698e3",
   "metadata": {
    "execution": {
     "iopub.execute_input": "2025-07-04T19:06:27.778200Z",
     "iopub.status.busy": "2025-07-04T19:06:27.777734Z",
     "iopub.status.idle": "2025-07-04T19:06:27.788375Z",
     "shell.execute_reply": "2025-07-04T19:06:27.787328Z"
    },
    "papermill": {
     "duration": 0.017614,
     "end_time": "2025-07-04T19:06:27.790123",
     "exception": false,
     "start_time": "2025-07-04T19:06:27.772509",
     "status": "completed"
    },
    "tags": []
   },
   "outputs": [],
   "source": [
    "# taking last 2 decade data\n",
    "df = df[(df['year'] >= 2005) & (df['year'] <= 2025)]"
   ]
  },
  {
   "cell_type": "code",
   "execution_count": 13,
   "id": "17549001",
   "metadata": {
    "execution": {
     "iopub.execute_input": "2025-07-04T19:06:27.800823Z",
     "iopub.status.busy": "2025-07-04T19:06:27.799674Z",
     "iopub.status.idle": "2025-07-04T19:06:27.818681Z",
     "shell.execute_reply": "2025-07-04T19:06:27.817553Z"
    },
    "papermill": {
     "duration": 0.026089,
     "end_time": "2025-07-04T19:06:27.820561",
     "exception": false,
     "start_time": "2025-07-04T19:06:27.794472",
     "status": "completed"
    },
    "tags": []
   },
   "outputs": [
    {
     "data": {
      "text/html": [
       "<div>\n",
       "<style scoped>\n",
       "    .dataframe tbody tr th:only-of-type {\n",
       "        vertical-align: middle;\n",
       "    }\n",
       "\n",
       "    .dataframe tbody tr th {\n",
       "        vertical-align: top;\n",
       "    }\n",
       "\n",
       "    .dataframe thead th {\n",
       "        text-align: right;\n",
       "    }\n",
       "</style>\n",
       "<table border=\"1\" class=\"dataframe\">\n",
       "  <thead>\n",
       "    <tr style=\"text-align: right;\">\n",
       "      <th></th>\n",
       "      <th>aircraft_type</th>\n",
       "      <th>registration</th>\n",
       "      <th>operator</th>\n",
       "      <th>fatalities</th>\n",
       "      <th>location</th>\n",
       "      <th>damage</th>\n",
       "      <th>time</th>\n",
       "      <th>flight #</th>\n",
       "      <th>route</th>\n",
       "      <th>cn/in</th>\n",
       "      <th>...</th>\n",
       "      <th>crashes</th>\n",
       "      <th>serious_injuries</th>\n",
       "      <th>minor_injuries</th>\n",
       "      <th>incidents</th>\n",
       "      <th>date</th>\n",
       "      <th>year</th>\n",
       "      <th>month</th>\n",
       "      <th>day</th>\n",
       "      <th>hour</th>\n",
       "      <th>fatality_overcount</th>\n",
       "    </tr>\n",
       "  </thead>\n",
       "  <tbody>\n",
       "    <tr>\n",
       "      <th>25499</th>\n",
       "      <td>cessna 551 citation ii/sp</td>\n",
       "      <td>n35403</td>\n",
       "      <td>jet services</td>\n",
       "      <td>0</td>\n",
       "      <td>ainsworth airport, ne (anw)</td>\n",
       "      <td>w/o</td>\n",
       "      <td>Unknown</td>\n",
       "      <td>unknown</td>\n",
       "      <td>unknown</td>\n",
       "      <td>unknown</td>\n",
       "      <td>...</td>\n",
       "      <td>0</td>\n",
       "      <td>0</td>\n",
       "      <td>0</td>\n",
       "      <td>0</td>\n",
       "      <td>2005-01-01</td>\n",
       "      <td>2005</td>\n",
       "      <td>1</td>\n",
       "      <td>1</td>\n",
       "      <td>-1</td>\n",
       "      <td>False</td>\n",
       "    </tr>\n",
       "  </tbody>\n",
       "</table>\n",
       "<p>1 rows × 24 columns</p>\n",
       "</div>"
      ],
      "text/plain": [
       "                   aircraft_type registration      operator  fatalities  \\\n",
       "25499  cessna 551 citation ii/sp       n35403  jet services           0   \n",
       "\n",
       "                          location damage     time flight #    route    cn/in  \\\n",
       "25499  ainsworth airport, ne (anw)    w/o  Unknown  unknown  unknown  unknown   \n",
       "\n",
       "       ...  crashes  serious_injuries minor_injuries incidents        date  \\\n",
       "25499  ...        0                 0              0         0  2005-01-01   \n",
       "\n",
       "       year  month  day hour  fatality_overcount  \n",
       "25499  2005      1    1   -1               False  \n",
       "\n",
       "[1 rows x 24 columns]"
      ]
     },
     "execution_count": 13,
     "metadata": {},
     "output_type": "execute_result"
    }
   ],
   "source": [
    "df.head(1)"
   ]
  },
  {
   "cell_type": "code",
   "execution_count": null,
   "id": "47387844",
   "metadata": {
    "papermill": {
     "duration": 0.003927,
     "end_time": "2025-07-04T19:06:27.828989",
     "exception": false,
     "start_time": "2025-07-04T19:06:27.825062",
     "status": "completed"
    },
    "tags": []
   },
   "outputs": [],
   "source": []
  }
 ],
 "metadata": {
  "kaggle": {
   "accelerator": "none",
   "dataSources": [
    {
     "datasetId": 7802076,
     "sourceId": 12373864,
     "sourceType": "datasetVersion"
    }
   ],
   "dockerImageVersionId": 31040,
   "isGpuEnabled": false,
   "isInternetEnabled": false,
   "language": "python",
   "sourceType": "notebook"
  },
  "kernelspec": {
   "display_name": "Python 3",
   "language": "python",
   "name": "python3"
  },
  "language_info": {
   "codemirror_mode": {
    "name": "ipython",
    "version": 3
   },
   "file_extension": ".py",
   "mimetype": "text/x-python",
   "name": "python",
   "nbconvert_exporter": "python",
   "pygments_lexer": "ipython3",
   "version": "3.11.11"
  },
  "papermill": {
   "default_parameters": {},
   "duration": 11.175598,
   "end_time": "2025-07-04T19:06:28.554313",
   "environment_variables": {},
   "exception": null,
   "input_path": "__notebook__.ipynb",
   "output_path": "__notebook__.ipynb",
   "parameters": {},
   "start_time": "2025-07-04T19:06:17.378715",
   "version": "2.6.0"
  }
 },
 "nbformat": 4,
 "nbformat_minor": 5
}
